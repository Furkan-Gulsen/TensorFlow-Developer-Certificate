{
  "nbformat": 4,
  "nbformat_minor": 0,
  "metadata": {
    "colab": {
      "name": "TensorFlow ile Transfer Learning - Özellik Çıkarımı (Feature Extraction) .ipynb",
      "provenance": [],
      "collapsed_sections": []
    },
    "kernelspec": {
      "name": "python3",
      "display_name": "Python 3"
    },
    "language_info": {
      "name": "python"
    },
    "accelerator": "GPU"
  },
  "cells": [
    {
      "cell_type": "code",
      "metadata": {
        "colab": {
          "base_uri": "https://localhost:8080/"
        },
        "id": "hnWnCKDfSFIx",
        "outputId": "48839992-3fd7-42b2-e991-e88a708faed6"
      },
      "source": [
        "# GPU kullanıyoruz mu test edelim\n",
        "!nvidia-smi"
      ],
      "execution_count": 1,
      "outputs": [
        {
          "output_type": "stream",
          "text": [
            "Sun Jul 18 06:27:06 2021       \n",
            "+-----------------------------------------------------------------------------+\n",
            "| NVIDIA-SMI 470.42.01    Driver Version: 460.32.03    CUDA Version: 11.2     |\n",
            "|-------------------------------+----------------------+----------------------+\n",
            "| GPU  Name        Persistence-M| Bus-Id        Disp.A | Volatile Uncorr. ECC |\n",
            "| Fan  Temp  Perf  Pwr:Usage/Cap|         Memory-Usage | GPU-Util  Compute M. |\n",
            "|                               |                      |               MIG M. |\n",
            "|===============================+======================+======================|\n",
            "|   0  Tesla T4            Off  | 00000000:00:04.0 Off |                    0 |\n",
            "| N/A   43C    P8     9W /  70W |      0MiB / 15109MiB |      0%      Default |\n",
            "|                               |                      |                  N/A |\n",
            "+-------------------------------+----------------------+----------------------+\n",
            "                                                                               \n",
            "+-----------------------------------------------------------------------------+\n",
            "| Processes:                                                                  |\n",
            "|  GPU   GI   CI        PID   Type   Process name                  GPU Memory |\n",
            "|        ID   ID                                                   Usage      |\n",
            "|=============================================================================|\n",
            "|  No running processes found                                                 |\n",
            "+-----------------------------------------------------------------------------+\n"
          ],
          "name": "stdout"
        }
      ]
    },
    {
      "cell_type": "markdown",
      "metadata": {
        "id": "Ad9ravEeTBQY"
      },
      "source": [
        "## TensorFlow Hub ile Transfer Learning: Verilerin %10'u ile Harika Sonuçlar Elde Etme\n",
        "\n",
        "\"Elbette bir başkası bu iş için doğru modeli yapmak için zaman harcadı...\" diye düşünüyorsanız, şanslısınız demektir.\n",
        "\n",
        "Derin öğrenmeyi kullanmak isteyeceğiniz sorunların çoğu için, muhtemelen çalışan bir model zaten mevcuttur. Ve iyi haber şu ki, çoğuna TensorFlow Hub'dan erişebilirsiniz. [TensorFlow Hub](https://tfhub.dev/), mevcut model bileşenleri için bir havuzdur. Bir URL kadar az olan tam eğitimli bir modeli içe aktarabilmenizi ve kullanabilmenizi sağlar.\n",
        "\n",
        "Şimdi, size transfer öğrenmenin gücünü gerçekten göstermek istiyorum.\n",
        "\n",
        "Bunu yapmak için, orijinal verinin yalnızca %10'u ile, yani 10 kat daha az veri ile şimdiye kadar elde ettiğimiz en iyi modelimizin elde ettiği sonuçların çoğunu (veya daha iyisini) elde edebileceğimizi söylesem ne olur?\n",
        "\n",
        "Bu mantıksız görünüyor değil mi?\n",
        "\n",
        "Bir yemek resminin nasıl göründüğüne dair daha fazla örneğin daha iyi sonuçlara yol açtığını düşünmez miydiniz?\n",
        "\n",
        "Ve genel olarak, daha fazla verinin daha iyi sonuçlara yol açtığını düşünüyorsanız haklısınız.\n",
        "\n",
        "Ancak, ya daha fazla veriye sahip değilseniz? Sınıf başına 750 görsel yerine, sınıf başına 75 görseliniz olsaydı ne olurdu?\n",
        "\n",
        "Belirli bir sınıfa ait 675 resim daha toplamak uzun zaman alabilir.\n",
        "\n",
        "İşte transfer öğreniminin bir başka önemli faydası da burada devreye giriyor.\n",
        "\n",
        "Aktarım öğrenimi genellikle daha az veriyle harika sonuçlar elde etmenizi sağlar.\n",
        "\n",
        "Kullanmakta olduğumuz verilerin bir alt kümesini, yani 10_food_classes veri kümesindeki eğitim verilerinin %10'unu indirelim ve bunu bir yemek görüntüsü sınıflandırıcısını eğitmek için kullanalım.\n",
        "\n",
        "<img src=\"https://cdn-images-1.medium.com/max/602/1*NF1_eYZrV5fj0_EICLKytw.jpeg\" />"
      ]
    },
    {
      "cell_type": "markdown",
      "metadata": {
        "id": "12BeRVv_UYxO"
      },
      "source": [
        "## Veriyi Azaltma"
      ]
    },
    {
      "cell_type": "code",
      "metadata": {
        "colab": {
          "base_uri": "https://localhost:8080/"
        },
        "id": "r_ZMPHPIS8Wt",
        "outputId": "5e228cc4-21f7-44e0-9a47-0e83dda0cc30"
      },
      "source": [
        "# verisetini içeriye aktarma\n",
        "import zipfile\n",
        "\n",
        "!gdown --id 1EJHNCG19hJG6XwIFxt2rpah-Q1Ikrbxw\n",
        "zip_ref = zipfile.ZipFile(\"10_food_classes_10_percent.zip\", \"r\")\n",
        "zip_ref.extractall()\n",
        "zip_ref.close()"
      ],
      "execution_count": 10,
      "outputs": [
        {
          "output_type": "stream",
          "text": [
            "Downloading...\n",
            "From: https://drive.google.com/uc?id=1EJHNCG19hJG6XwIFxt2rpah-Q1Ikrbxw\n",
            "To: /content/10_food_classes_10_percent.zip\n",
            "169MB [00:01, 158MB/s]\n"
          ],
          "name": "stdout"
        }
      ]
    },
    {
      "cell_type": "code",
      "metadata": {
        "colab": {
          "base_uri": "https://localhost:8080/"
        },
        "id": "qx_wzG0sWFRy",
        "outputId": "3c0cb11b-04d3-4240-b4dc-4159efc3ae9f"
      },
      "source": [
        "# Her klasörde kaç resim var?\n",
        "import os\n",
        "\n",
        "for dirpath, dirnames, filenames in os.walk(\"10_food_classes_10_percent\"):\n",
        "  print(f\"'{dirpath}' klasöründe {len(filenames)} veri var.\")"
      ],
      "execution_count": 11,
      "outputs": [
        {
          "output_type": "stream",
          "text": [
            "'10_food_classes_10_percent' klasöründe 0 veri var.\n",
            "'10_food_classes_10_percent/test' klasöründe 0 veri var.\n",
            "'10_food_classes_10_percent/test/hamburger' klasöründe 250 veri var.\n",
            "'10_food_classes_10_percent/test/grilled_salmon' klasöründe 250 veri var.\n",
            "'10_food_classes_10_percent/test/pizza' klasöründe 250 veri var.\n",
            "'10_food_classes_10_percent/test/chicken_curry' klasöründe 250 veri var.\n",
            "'10_food_classes_10_percent/test/sushi' klasöründe 250 veri var.\n",
            "'10_food_classes_10_percent/test/ice_cream' klasöründe 250 veri var.\n",
            "'10_food_classes_10_percent/test/fried_rice' klasöründe 250 veri var.\n",
            "'10_food_classes_10_percent/test/chicken_wings' klasöründe 250 veri var.\n",
            "'10_food_classes_10_percent/test/steak' klasöründe 250 veri var.\n",
            "'10_food_classes_10_percent/test/ramen' klasöründe 250 veri var.\n",
            "'10_food_classes_10_percent/train' klasöründe 0 veri var.\n",
            "'10_food_classes_10_percent/train/hamburger' klasöründe 75 veri var.\n",
            "'10_food_classes_10_percent/train/grilled_salmon' klasöründe 75 veri var.\n",
            "'10_food_classes_10_percent/train/pizza' klasöründe 75 veri var.\n",
            "'10_food_classes_10_percent/train/chicken_curry' klasöründe 75 veri var.\n",
            "'10_food_classes_10_percent/train/sushi' klasöründe 75 veri var.\n",
            "'10_food_classes_10_percent/train/ice_cream' klasöründe 75 veri var.\n",
            "'10_food_classes_10_percent/train/fried_rice' klasöründe 75 veri var.\n",
            "'10_food_classes_10_percent/train/chicken_wings' klasöründe 75 veri var.\n",
            "'10_food_classes_10_percent/train/steak' klasöründe 75 veri var.\n",
            "'10_food_classes_10_percent/train/ramen' klasöründe 75 veri var.\n"
          ],
          "name": "stdout"
        }
      ]
    },
    {
      "cell_type": "markdown",
      "metadata": {
        "id": "uEfJAfDQWS9B"
      },
      "source": [
        "Eğitim verilerinin her birinin artık 750 görüntü yerine 75 görüntüye sahip olduğuna dikkat edin. Bu, transfer öğreniminin daha az etiketli görüntülerle ne kadar iyi performans gösterebileceğini göstermenin anahtarıdır.\n",
        "\n",
        "Test dizinleri hala aynı miktarda görüntüye sahip. Bu, daha az veri üzerinde eğitim yapacağımız, ancak modellerimizi aynı miktarda test verisi üzerinde değerlendireceğimiz anlamına geliyor."
      ]
    },
    {
      "cell_type": "markdown",
      "metadata": {
        "id": "KydreORJWcwY"
      },
      "source": [
        "## Verileri Hazırlama\n",
        "\n",
        "Verileri indirdik, şimdi `imageDataGenerator` sınıfını ve `flow_from_directory` yöntemini kullanarak resimlerimizi yükleyelim."
      ]
    },
    {
      "cell_type": "code",
      "metadata": {
        "colab": {
          "base_uri": "https://localhost:8080/"
        },
        "id": "zZCv2RxrWizU",
        "outputId": "037b862d-c4ad-4d8d-e1f9-bd43d622f39c"
      },
      "source": [
        "from tensorflow.keras.preprocessing.image import ImageDataGenerator\n",
        "\n",
        "IMAGE_SHAPE = (224, 224)\n",
        "BATCH_SIZE = 32\n",
        "\n",
        "train_dir = \"10_food_classes_10_percent/train/\"\n",
        "test_dir = \"10_food_classes_10_percent/test/\"\n",
        "\n",
        "train_datagen = ImageDataGenerator(rescale=1/255.)\n",
        "test_datagen = ImageDataGenerator(rescale=1/255.)\n",
        "\n",
        "print(\"Training resimleri:\")\n",
        "train_data_10_percent = train_datagen.flow_from_directory(train_dir,\n",
        "                                               target_size=IMAGE_SHAPE,\n",
        "                                               batch_size=BATCH_SIZE,\n",
        "                                               class_mode=\"categorical\")\n",
        "\n",
        "print(\"Testing resimleri:\")\n",
        "test_data = train_datagen.flow_from_directory(test_dir,\n",
        "                                              target_size=IMAGE_SHAPE,\n",
        "                                              batch_size=BATCH_SIZE,\n",
        "                                              class_mode=\"categorical\")"
      ],
      "execution_count": 12,
      "outputs": [
        {
          "output_type": "stream",
          "text": [
            "Training resimleri:\n",
            "Found 750 images belonging to 10 classes.\n",
            "Testing resimleri:\n",
            "Found 2500 images belonging to 10 classes.\n"
          ],
          "name": "stdout"
        }
      ]
    },
    {
      "cell_type": "markdown",
      "metadata": {
        "id": "fFp0vdRIWset"
      },
      "source": [
        "Mükemmel! Verileri yüklediğimizde, 10 sınıfa (sınıf başına 75) ait eğitim veri setinde 750 görüntü ve 10 sınıfa ait (sınıf başına 250) test setinde 2500 görüntü olduğunu görüyoruz."
      ]
    },
    {
      "cell_type": "markdown",
      "metadata": {
        "id": "_K2cKgQjWxJB"
      },
      "source": [
        "## Callback İşlevlerini Ayarlama \n",
        "\n",
        "Bir model oluşturmadan önce, aşina olacağımız önemli bir kavram var çünkü gelecekteki model oluşturma deneylerimizde kilit bir rol oynayacak.\n",
        "\n",
        "Ve bu kavram Callback.\n",
        "\n",
        "[Callback](https://www.tensorflow.org/api_docs/python/tf/keras/callbacks), eğitim sırasında veya sonrasında gerçekleştirilmek üzere modellerinize ekleyebileceğiniz ekstra işlevlerdir. En popüler callback'lerden bazıları şunlardır:\n",
        "- [**TensorBoard ile modeli izleme**](https://www.tensorflow.org/api_docs/python/tf/keras/callbacks/TensorBoard)<br>\n",
        "Birden fazla modelin performansını günlüğe kaydedin ve ardından bu modelleri TensorBoard'da (sinir ağı parametrelerini incelemek için bir gösterge panosu) görsel bir şekilde görüntüleyin ve karşılaştırın. Verileriniz üzerinde farklı modellerin sonuçlarını karşılaştırmanıza yardımcı olur.\n",
        "- [**Model Checkpointing**](https://www.tensorflow.org/api_docs/python/tf/keras/callbacks/ModelCheckpoint)<br>\n",
        "Modelinizi eğitirken kaydedin, böylece gerekirse eğitimi durdurabilir ve kaldığınız yerden devam etmek için geri dönebilirsiniz. Eğitim uzun sürüyorsa ve bir oturuşta yapılamıyorsa faydalıdır.\n",
        "- [**Early Stopping**](https://www.tensorflow.org/api_docs/python/tf/keras/callbacks/EarlyStopping)<br> \n",
        "Model eğitiminizi isteğe bağlı bir süre için bırakın ve gelişme sona erdiğinde eğitimi otomatik olarak durdurmasını sağlayın. Büyük bir veri kümeniz olduğunda ve eğitimin ne kadar süreceğini bilmediğinizde faydalıdır.\n",
        "\n",
        "Bunların her birini inceleyeceğiz, ancak bu defter için TensorBoard geri aramasının nasıl kullanılabileceğini göreceğiz.\n",
        "\n",
        "TensorBoard geri çağrısına `tf.keras.callbacks.TensorBoard()` kullanılarak erişilebilir. Ana işlevi, bir modelin eğitim performans ölçümlerini belirtilen bir log_dir'e kaydetmektir.\n",
        "\n",
        "Varsayılan olarak, günlükler `update_freq='epoch'` parametresi kullanılarak her epoch'ta kaydedilir. Bu iyi bir varsayılandır, çünkü model performansının izlenmesi sıklıkla model eğitimini yavaşlatabilir.\n",
        "\n",
        "TensorBoard kullanarak modelleme deneylerimizi izlemek için, bizim için bir TensorBoard geri çağrısı oluşturan bir fonksiyon oluşturalım.\n",
        "\n",
        "> 🔑 Not: Bir TensorBoard geri çağrısı oluşturmak için bir fonksiyon yaratırız çünkü daha sonra göreceğimiz gibi, her model kendi TensorBoard geri çağırma örneğine ihtiyaç duyar (böylece fonksiyon her çalıştırıldığında yeni bir tane yaratacaktır)."
      ]
    },
    {
      "cell_type": "code",
      "metadata": {
        "id": "xQH7nCPyWwXE"
      },
      "source": [
        "# Tensorboard callback işlevini oluşturma\n",
        "import datetime\n",
        "def create_tensorboard_callback(dir_name, experiment_name):\n",
        "  log_dir = dir_name + \"/\" + experiment_name + \"/\" + datetime.datetime.now().strftime(\"%Y%m%d-%H%M%S\")\n",
        "  tensorboard_callback = tf.keras.callbacks.TensorBoard(\n",
        "      log_dir=log_dir\n",
        "  )\n",
        "  print(f\"TensorBoard günlük dosyalarını kaydetme: {log_dir}\")\n",
        "  return tensorboard_callback"
      ],
      "execution_count": 13,
      "outputs": []
    },
    {
      "cell_type": "markdown",
      "metadata": {
        "id": "H5yMQKG6Xynn"
      },
      "source": [
        "Birden fazla modeli çalıştırmanız muhtemel olduğundan, bunları bir şekilde takip edebilmek iyi bir fikirdir.\n",
        "\n",
        "Bizim durumumuzda, fonksiyonumuz bir modelin performans günlüklerini `[dir_name]/[experiment_name]/[current_timestamp]` adlı bir dizine kaydeder, burada:\n",
        "\n",
        "- `dir_name` genel günlükler dizinidir\n",
        "- `experiment_name` belirli bir modeldir\n",
        "- `current_timestamp` Python'un datetime.datetime().now() değerine dayalı olarak deneyin başladığı zamandır\n",
        "\n",
        "> 🔑 Not: Kullanım durumunuza bağlı olarak, yukarıdaki deneme amaçlı izleme adlandırma yöntemi işe yarayabilir veya daha spesifik bir şeye ihtiyacınız olabilir. İyi haber şu ki, TensorBoard geri araması, onları nerede izleyeceğinizi belirttiğiniz sürece modelleme günlüklerini izlemeyi kolaylaştırır. Böylece, deneylerinizi nasıl adlandırdığınız konusunda istediğiniz kadar yaratıcı olabilirsiniz, sadece sizin veya ekibinizin onları anlayabildiğinden emin olun."
      ]
    },
    {
      "cell_type": "markdown",
      "metadata": {
        "id": "54wel-TmZzyR"
      },
      "source": [
        "## TensorFlow Hub Kullanarak Bir Model Oluşturma\n",
        "\n",
        "Geçmişte, sıfırdan katman katman kendi modellerimizi oluşturmak için TensorFlow'u kullandık. Şimdi benzer bir işlem yapacağız, ancak modelimizin katmanlarının çoğu TensorFlow Hub'dan gelecek.\n",
        "\n",
        "Aslında, TensorFlow Hub'dan iki model kullanacağız:\n",
        "\n",
        "- **ResNetV2**<br>\n",
        "2016'dan itibaren son teknoloji bir bilgisayarlı görü modeli mimarisi.\n",
        "- **EfficientNet**<br>\n",
        "2019'dan itibaren son teknoloji bir bilgisayarlı görü mimarisi.\n",
        "\n",
        "Son teknoloji, bir noktada, bu modellerin her ikisinin de bilgisayarla görme kıyaslamalarının altın standardı olan ImageNet'te (ILSVRC-2012-CLS) en düşük hata oranını elde ettiği anlamına gelir.\n",
        "\n",
        "Merak ediyor olabilirsiniz, bu modelleri TensorFlow Hub'da nasıl buluyorsunuz?\n",
        "\n",
        "İşte attığım adımlar:\n",
        "\n",
        "1. tfhub.dev'e gidin.\n",
        "2. Sorunlu etki alanınızı seçin, ör. \"Görüntü\" (yemek resimleri kullanıyoruz).\n",
        "3. Bizim durumumuzda TF2 olan TF sürümünüzü seçin.\n",
        "4. Üzerinde çalıştığınız sorun dışındaki tüm \"Problem Domain\" filtrelerini kaldırın.\n",
        "  - **Not:** \"Image feature vector\" hemen hemen her problemin yanında kullanılabilir, buna birazdan geleceğiz.\n",
        "Listelenen modeller, probleminiz için potansiyel olarak kullanılabilecek tüm modellerdir.\n",
        "\n",
        "> 🤔 **Soru:**<br> Görüntü sınıflandırma modelleri için birçok seçenek görüyorum, hangisinin en iyi olduğunu nasıl bileceğim?\n",
        "\n",
        "En son modellerin bir listesini [paperswithcode.com](https://www.paperswithcode.com/)'da görebilirsiniz; bu kaynak, raporladıkları bulgular için kod uygulamalarına sahip en son derin öğrenme makalesi sonuçlarını toplamak için bir kaynaktır.\n",
        "\n",
        "Görüntülerle çalıştığımız için hedefimiz [ImageNet](https://paperswithcode.com/sota/image-classification-on-imagenet)'te en iyi performansı gösteren modeller.\n",
        "\n",
        "Muhtemelen kodlu kağıtlarda listelenen model mimarilerinin tümünün TensorFlow Hub'da görünmediğini göreceksiniz. Ve bu sorun değil, hala mevcut olanı kullanabiliriz.\n",
        "\n",
        "6. TensorFlow Hub'da Mimari sekmesini seçin ve mimari adlarından oluşan bir açılır menünün göründüğünü göreceksiniz.\n",
        "  - Buradaki temel kural genellikle, daha büyük sayılara sahip isimler daha iyi performans gösteren modeller anlamına gelir. Örneğin, EfficientNetB4, EfficientNetB0'dan daha iyi performans gösterir.\n",
        "    - Bununla birlikte, daha büyük sayılarla yapılan ödünleşim, hesaplamanın daha uzun sürdüğü anlamına gelebilir.\n",
        "\n",
        "7. EfficientNetB0'ı seçin ve aşağıdakine benzer bir şey görmelisiniz:\n",
        "\n",
        "<img src=\"https://raw.githubusercontent.com/mrdbourke/tensorflow-deep-learning/main/images/04-tensorflow-hub-efficientnetb0.png\" />\n",
        "\n",
        "8. [\"efficientnet/b0/feature-vector\"](https://tfhub.dev/tensorflow/efficientnet/b0/feature-vector/1) başlığına tıklamak bizi \"URL'yi kopyala\" yazan bir buton içeren bir sayfaya getiriyor. Bu URL, EfficientNetB0'ın gücünden yararlanmak için kullanabileceğimiz şeydir.\n",
        "  - URL'yi kopyalamak size şöyle bir şey vermelidir: https://tfhub.dev/tensorflow/quality/b0/feature-vector/1\n",
        "\n",
        "> 🤔 Soru: Görüntü sınıflandırması yaptığımızı sanıyordum, neden sınıflandırma değil de özellik vektörünü seçiyoruz?\n",
        "\n",
        "Harika gözlem. Bu, özellik çıkarma ve ince ayar gibi farklı aktarım öğrenme türlerinin devreye girdiği yerdir."
      ]
    },
    {
      "cell_type": "markdown",
      "metadata": {
        "id": "R2Kkd_Svam6H"
      },
      "source": [
        "1. **\"As is\" transfer öğrenme**, önceden eğitilmiş bir modeli olduğu gibi alıp herhangi bir değişiklik yapmadan görevinize uyguladığınız zamandır.\n",
        "\n",
        "  - Örneğin, birçok bilgisayarlı görü modeli, 1000 farklı görüntü sınıfını içeren ImageNet veri kümesi üzerinde önceden eğitilmiştir. Bu, bu modele tek bir görüntünün geçirilmesinin 1000 farklı tahmin olasılığı değeri (her sınıf için 1) üreteceği anlamına gelir.\n",
        "\n",
        "    - Sınıflandırmak istediğiniz 1000 görüntü sınıfınız varsa ve bunların tümü ImageNet sınıflarıyla aynıysa bu yararlıdır, ancak yalnızca küçük bir sınıf alt kümesini (10 farklı tür gibi) sınıflandırmak istiyorsanız bu yararlı değildir. TensorFlow Hub'da adlarında `/classification` bulunan modeller bu tür bir işlevsellik sağlar.\n",
        "\n",
        "2. **Özellik çıkarma transferi öğrenimi**, önceden eğitilmiş bir modelin öğrendiği temel kalıpları (ağırlıklar da denir) aldığınızda ve çıktılarını probleminize daha uygun olacak şekilde ayarladığınızda gerçekleşir.\n",
        "\n",
        "  - Örneğin, kullandığınız önceden eğitilmiş modelin 236 farklı katmanı olduğunu varsayalım (EfficientNetB0'ın 236 katmanı vardır), ancak ImageNet'te önceden eğitildiği için üst katman 1000 sınıf verir. Bunu kendi probleminize göre ayarlamak için, orijinal etkinleştirme katmanını kaldırabilir ve onu kendinizle ancak doğru sayıda çıktı sınıfıyla değiştirebilirsiniz. Buradaki önemli kısım, sadece en üstteki birkaç katmanın eğitilebilir hale gelmesi, geri kalanının donmuş kalmasıdır.\n",
        "\n",
        "    - Bu şekilde, temeldeki tüm desenler diğer katmanlarda kalır ve bunları kendi probleminiz için kullanabilirsiniz. Bu tür aktarım öğrenimi, verileriniz bir modelin önceden eğitilmiş olduğu verilere benzer olduğunda çok faydalıdır.\n",
        "\n",
        "3. **İnce ayarlı (fine tuning) transfer öğrenimi**, önceden eğitilmiş bir modelin temel modellerini (ağırlık olarak da adlandırılır) aldığınız ve bunları kendi probleminize göre ayarladığınız (ince ayar yaptığınız) zamandır.\n",
        "\n",
        "  - Bu genellikle önceden eğitilmiş modeldeki katmanların bir kısmının, çoğunun veya tamamının eğitilmesi anlamına gelir. Bu, verilerinizin orijinal modelin eğitildiği verilerden biraz farklı olduğu büyük bir veri kümeniz (ör. sınıf başına 100'den fazla görüntü) olduğunda kullanışlıdır.\n",
        "\n",
        "Yaygın bir iş akışı, önceden eğitilmiş bir modelin alt katmanlarında öğrenilen tüm kalıpları \"dondurarak\" eğitilemez hale getirmektir. Ardından, önceden eğitilmiş modelin çıktılarını özel verilerinize göre ayarlayabilmesi için üste ki 2-3 katmanını eğitin (özellik çıkarma).\n",
        "\n",
        "İlk 2-3 katmanı eğittikten sonra, giderek daha fazla katmanı kademeli olarak \"çözebilir\" ve önceden eğitilmiş modelde daha fazla ince ayar yapmak için eğitim sürecini kendi verileriniz üzerinde çalıştırabilirsiniz.\n",
        "\n",
        "> 🤔 Soru: Özellik çıkarmada neden yalnızca ilk 2-3 katmanı eğitelim?\n",
        "\n",
        "Bir bilgisayarlı görü modelinde bir katman ne kadar düşükse, girdi katmanına ne kadar yakınsa, öğrendiği özellikler o kadar büyük olur. Örneğin, kedilerin veya köpeklerin görüntülerini tanımlamak için bir bilgisayarlı görme modelindeki bir alt katman, bacakların ana hatlarını öğrenebilirken, çıktıya daha yakın katmanlar dişlerin şeklini öğrenebilir. Çoğu zaman, daha büyük özelliklerin (öğrenilmiş kalıplar aynı zamanda özellikler olarak da adlandırılır) kalmasını istersiniz, çünkü bunlar her iki hayvan için de benzerdir, ancak farklılıklar daha ince taneli özelliklerde kalır.\n",
        "\n",
        "<img src=\"https://raw.githubusercontent.com/mrdbourke/tensorflow-deep-learning/main/images/04-different-kinds-of-transfer-learning.png\" />\n",
        "\n",
        "Tamam, yeterince konuştuk, şimdi bunu uygulayarak görelim. Bir kez yaptığımızda, neler olduğunu açıklayacağız.\n",
        "\n",
        "İlk önce TensorFlow ve TensorFlow Hub'ı içe aktaracağız."
      ]
    },
    {
      "cell_type": "code",
      "metadata": {
        "id": "E5306lzQXw48"
      },
      "source": [
        "import tensorflow as tf\n",
        "import tensorflow_hub as hub\n",
        "from tensorflow.keras import layers"
      ],
      "execution_count": 14,
      "outputs": []
    },
    {
      "cell_type": "markdown",
      "metadata": {
        "id": "e-1prX8bbjVp"
      },
      "source": [
        "Şimdi, yukarıdaki adımları kullanarak TensorFlow Hub'dan iki yaygın bilgisayarlı görü mimarisinin, [EfficientNetB0 (2019)](https://tfhub.dev/tensorflow/efficientnet/b0/feature-vector/1) ve [ResNetV250 (2016)](https://tfhub.dev/google/imagenet/resnet_v2_50/feature_vector/4) özellik vektör URL'lerini alacağız.\n",
        "\n",
        "Her ikisini de alıyoruz çünkü verilerimizde hangisinin daha iyi performans gösterdiğini görmek için onları karşılaştıracağız.\n",
        "\n",
        "> 🔑 Not: Aynı veriler üzerinde farklı model mimarisi performansının karşılaştırılması çok yaygın bir uygulamadır. Bunun basit nedeni, probleminiz için hangi modelin en iyi performansı gösterdiğini bilmek istemenizdir."
      ]
    },
    {
      "cell_type": "code",
      "metadata": {
        "id": "a1PFo4XGbh-8"
      },
      "source": [
        "# Resnet 50 V2 özellik vektörü\n",
        "resnet_url = \"https://tfhub.dev/google/imagenet/resnet_v2_50/feature_vector/4\"\n",
        "\n",
        "# EfficientNet0 özellik vektörü\n",
        "efficientnet_url = \"https://tfhub.dev/tensorflow/efficientnet/b0/feature-vector/1\""
      ],
      "execution_count": 15,
      "outputs": []
    },
    {
      "cell_type": "markdown",
      "metadata": {
        "id": "0Pdpn2qPbvXy"
      },
      "source": [
        "Bu URL'ler, TensorFlow Hub'da kaydedilmiş önceden eğitilmiş bir modele bağlanır.\n",
        "\n",
        "Bunları modelimizde kullandığımızda, model otomatik olarak indirilip kullanmamız için indirilecektir.\n",
        "\n",
        "Bunu yapmak için TensorFlow hub kitaplığı içindeki [KerasLayer()](https://www.tensorflow.org/hub/api_docs/python/hub/KerasLayer) modelini kullanabiliriz.\n",
        "\n",
        "İki modeli karşılaştıracağımızdan, kendi kodumuzdan tasarruf etmek için bir `create_model()` işlevi yaratacağız. Bu işlev, bir modelin TensorFlow Hub URL'sini alacak, uygun sayıda çıktı katmanına sahip bir Keras Sıralı modeli oluşturacak ve modeli döndürecektir."
      ]
    },
    {
      "cell_type": "code",
      "metadata": {
        "id": "v8QGTQbjbtg6"
      },
      "source": [
        "def create_model(model_url, num_classes=10):\n",
        "  \"\"\"\n",
        "  Bir TensorFlow Hub URL'sini alır ve onunla bir Keras Sıralı modeli oluşturur.\n",
        "  \n",
        "  Args:\n",
        "    model_url (str): Bir TensorFlow Hub özelliği çıkarma URL'si.\n",
        "    num_classes (int): Çıkış katmanındaki çıkış nöronlarının sayısı, \n",
        "          varsayılan olarak 10 olan hedef sınıfların sayısına eşit olmalıdır.\n",
        "\n",
        "  Returns:\n",
        "    Özellik çıkarma katmanı olarak model_url ve num_classes çıktıları ile \n",
        "    Yoğun çıktı katmanı ile derlenmemiş Keras Sıralı modeli.\n",
        "  \"\"\"\n",
        "  # Önceden eğitilmiş modeli indirin ve Keras katmanı olarak kaydedin\n",
        "  feature_extractor_layer = hub.KerasLayer(model_url,\n",
        "                                           trainable=False, # temel kalıpları dondur\n",
        "                                           name='feature_extraction_layer',\n",
        "                                           input_shape=IMAGE_SHAPE+(3,)) # giriş görüntü şeklini tanımla\n",
        "  \n",
        "  # Kendi modelimizi oluşturun\n",
        "  model = tf.keras.Sequential([\n",
        "    feature_extractor_layer, # özellik çıkarma katmanını temel olarak kullanın\n",
        "    layers.Dense(num_classes, activation='softmax', name='output_layer') # kendi çıktı katmanımızı yarat      \n",
        "  ])\n",
        "\n",
        "  return model"
      ],
      "execution_count": 16,
      "outputs": []
    },
    {
      "cell_type": "markdown",
      "metadata": {
        "id": "zwsJH1lbczpr"
      },
      "source": [
        "Harika! Şimdi bir model oluşturmak için bir fonksiyonumuz var, bunu ilk önce özellik çıkarma katmanımız olarak ResNetV250 mimarisini kullanarak bir model oluşturmak için kullanacağız.\n",
        "\n",
        "Model somutlaştırıldıktan sonra, kayıp fonksiyonumuz olarak `categorical_crossentropy`'yi, metriğimiz olarak Adam optimizer'ı ve doğruluğu kullanarak onu derleyeceğiz."
      ]
    },
    {
      "cell_type": "code",
      "metadata": {
        "id": "kx7_V0A0ckv-"
      },
      "source": [
        "# Model oluşturma\n",
        "resnet_model = create_model(resnet_url, num_classes=train_data_10_percent.num_classes)\n",
        "\n",
        "# Derleme\n",
        "resnet_model.compile(loss='categorical_crossentropy',\n",
        "                     optimizer=tf.keras.optimizers.Adam(),\n",
        "                     metrics=['accuracy'])"
      ],
      "execution_count": 17,
      "outputs": []
    },
    {
      "cell_type": "markdown",
      "metadata": {
        "id": "18UCLdYrdO6Z"
      },
      "source": [
        "<img src=\"https://www.lifejson.com/wp-content/uploads/2019/09/resnet50.jpg\" />\n",
        "\n",
        "Mevcut modelimiz nasıl görünüyor. Üstte özel bir yoğun katmana sahip bir ResNet50V2 mimarisi (1000 ImageNet sınıfı yerine 10 sınıf) var.\n",
        "\n",
        "Şimdi modeli fit etme zamanı.\n",
        "\n",
        "Train_data_10_percent içindeki eğitim verilerini ve test_data olarak kaydedilen test verilerini hazırladık. Ancak fit işlevini çağırmadan önce, ekleyeceğimiz bir şey daha var, bir callback. Daha spesifik olarak, modelimizin performansını TensorBoard'da izleyebilmemiz için bir TensorBoard callback. \n",
        "\n",
        "Fit fonksiyonunda callbacks parametresini kullanarak modelimize bir callback ekleyebiliriz.\n",
        "\n",
        "Bizim durumumuzda, daha önce oluşturduğumuz `create_tensorboard_callback()` parametresini bazı özel girdilerle ileteceğiz, böylece hangi adımlarda çalıştırdığımızı bileceğiz. Bu adımları kısa tutalım ve 5 epoch boyunca training yapalım.\n"
      ]
    },
    {
      "cell_type": "code",
      "metadata": {
        "colab": {
          "base_uri": "https://localhost:8080/"
        },
        "id": "jxCjuCr7dKQZ",
        "outputId": "2b0f7e9d-aab3-4981-fa09-cb436d5407e0"
      },
      "source": [
        "# modeli fit etme\n",
        "resnet_history = resnet_model.fit(train_data_10_percent,\n",
        "                   epochs=5,\n",
        "                   steps_per_epoch=len(train_data_10_percent),\n",
        "                   validation_data=test_data,\n",
        "                   validation_steps=len(test_data),\n",
        "                   callbacks=[\n",
        "                        create_tensorboard_callback(\n",
        "                            # buraya kaydet\n",
        "                            dir_name=\"tensorflow_hub\", \n",
        "                            # log dosyalarının adı\n",
        "                            experiment_name=\"resnet50V2\")]) "
      ],
      "execution_count": 18,
      "outputs": [
        {
          "output_type": "stream",
          "text": [
            "TensorBoard günlük dosyalarını kaydetme: tensorflow_hub/resnet50V2/20210718-071814\n",
            "Epoch 1/5\n",
            "24/24 [==============================] - 51s 786ms/step - loss: 1.9539 - accuracy: 0.3627 - val_loss: 1.2220 - val_accuracy: 0.6100\n",
            "Epoch 2/5\n",
            "24/24 [==============================] - 15s 653ms/step - loss: 0.9010 - accuracy: 0.7573 - val_loss: 0.8473 - val_accuracy: 0.7336\n",
            "Epoch 3/5\n",
            "24/24 [==============================] - 15s 653ms/step - loss: 0.6149 - accuracy: 0.8373 - val_loss: 0.7469 - val_accuracy: 0.7636\n",
            "Epoch 4/5\n",
            "24/24 [==============================] - 16s 690ms/step - loss: 0.4715 - accuracy: 0.8867 - val_loss: 0.7012 - val_accuracy: 0.7716\n",
            "Epoch 5/5\n",
            "24/24 [==============================] - 16s 668ms/step - loss: 0.3838 - accuracy: 0.9173 - val_loss: 0.6743 - val_accuracy: 0.7828\n"
          ],
          "name": "stdout"
        }
      ]
    },
    {
      "cell_type": "markdown",
      "metadata": {
        "id": "RY1IAiJPevkh"
      },
      "source": [
        "Görünüşe göre sadece 5 epcoh'tan sonra, ResNetV250 özellik çıkarma modeli, yaptığımız mimarilerden herhangi birini cebinden çıkaracak hale geldi ve eğitim setinde yaklaşık %90 doğruluk ve test setinde yaklaşık %80 doğruluk elde etti... eğitim görüntülerinin sadece %10'u ile! Bu, transfer öğrenmenin gücünü gösterir.\n",
        "\n",
        "`Plot_loss_curves` fonksiyonumuzu kullanarak modelimizin eğitim eğrilerini kontrol edelim."
      ]
    },
    {
      "cell_type": "code",
      "metadata": {
        "id": "swyhk_uces3h"
      },
      "source": [
        "import matplotlib.pyplot as plt\n",
        "\n",
        "def plot_loss_curves(history):\n",
        "  loss = history.history['loss']\n",
        "  val_loss = history.history['val_loss']\n",
        "\n",
        "  accuracy = history.history['accuracy']\n",
        "  val_accuracy = history.history['val_accuracy']\n",
        "\n",
        "  epochs = range(len(history.history['loss']))\n",
        "\n",
        "  plt.plot(epochs, loss, label='training_loss')\n",
        "  plt.plot(epochs, val_loss, label='val_loss')\n",
        "  plt.title('Loss')\n",
        "  plt.xlabel('Epochs')\n",
        "  plt.legend()\n",
        "\n",
        "  plt.figure()\n",
        "  plt.plot(epochs, accuracy, label='training_accuracy')\n",
        "  plt.plot(epochs, val_accuracy, label='val_accuracy')\n",
        "  plt.title('Accuracy')\n",
        "  plt.xlabel('Epochs')\n",
        "  plt.legend();"
      ],
      "execution_count": 20,
      "outputs": []
    },
    {
      "cell_type": "code",
      "metadata": {
        "colab": {
          "base_uri": "https://localhost:8080/",
          "height": 573
        },
        "id": "ydn1na__fA9a",
        "outputId": "7ef7cbb7-d81c-4700-d787-6ab711bc04e9"
      },
      "source": [
        "plot_loss_curves(resnet_history)"
      ],
      "execution_count": 21,
      "outputs": [
        {
          "output_type": "display_data",
          "data": {
            "image/png": "[encoded data removed]",
            "text/plain": [
              "<Figure size 432x288 with 1 Axes>"
            ]
          },
          "metadata": {
            "tags": [],
            "needs_background": "light"
          }
        },
        {
          "output_type": "display_data",
          "data": {
            "image/png": "[encoded data removed]",
            "text/plain": [
              "<Figure size 432x288 with 1 Axes>"
            ]
          },
          "metadata": {
            "tags": [],
            "needs_background": "light"
          }
        }
      ]
    },
    {
      "cell_type": "code",
      "metadata": {
        "colab": {
          "base_uri": "https://localhost:8080/"
        },
        "id": "33YxKMaQgaUh",
        "outputId": "46380161-7511-44b2-a3c2-51b566fdcacc"
      },
      "source": [
        "resnet_model.summary()"
      ],
      "execution_count": 22,
      "outputs": [
        {
          "output_type": "stream",
          "text": [
            "Model: \"sequential\"\n",
            "_________________________________________________________________\n",
            "Layer (type)                 Output Shape              Param #   \n",
            "=================================================================\n",
            "feature_extraction_layer (Ke (None, 2048)              23564800  \n",
            "_________________________________________________________________\n",
            "output_layer (Dense)         (None, 10)                20490     \n",
            "=================================================================\n",
            "Total params: 23,585,290\n",
            "Trainable params: 20,490\n",
            "Non-trainable params: 23,564,800\n",
            "_________________________________________________________________\n"
          ],
          "name": "stdout"
        }
      ]
    },
    {
      "cell_type": "markdown",
      "metadata": {
        "id": "KrfgO9iFggnp"
      },
      "source": [
        "TensorFlow Hub'ın gücünü burada görebilirsiniz. Özellik çıkarma katmanı, modelin ImageNet veri kümesinde önceden öğrenmiş olduğu önceden öğrenilmiş desenler olan 23.564.800 parametreye sahiptir. Trainable=False ayarını yaptığımız için, bu modeller eğitim sırasında donmuş (eğitilemez) olarak kalır.\n",
        "\n",
        "Bu, eğitim sırasında modelin çıktı katmanındaki 20.490 parametreyi veri kümemize uyacak şekilde güncellediği anlamına gelir.\n",
        "\n",
        "Tamam, bir ResNetV250 modelini eğittik, aynısını EfficientNetB0 modeliyle yapmanın zamanı geldi.\n",
        "\n",
        "`create_model()` işlevindeki model_url parametresi ve `create_tensorboard_callback()` işlevindeki `trial_name` parametresi dışında kurulum öncekiyle tamamen aynı olacaktır."
      ]
    },
    {
      "cell_type": "code",
      "metadata": {
        "colab": {
          "base_uri": "https://localhost:8080/"
        },
        "id": "lu6lE-bGgeul",
        "outputId": "2c917172-17af-46a6-c46d-d0d5c7128058"
      },
      "source": [
        "efficientnet_model = create_model(model_url=efficientnet_url,\n",
        "                                  num_classes=train_data_10_percent.num_classes)\n",
        "\n",
        "efficientnet_model.compile(loss='categorical_crossentropy',\n",
        "                           optimizer=tf.keras.optimizers.Adam(),\n",
        "                           metrics=['accuracy'])\n",
        "\n",
        "efficientnet_history = efficientnet_model.fit(train_data_10_percent, \n",
        "                                              epochs=5, \n",
        "                                              steps_per_epoch=len(train_data_10_percent),\n",
        "                                              validation_data=test_data,\n",
        "                                              validation_steps=len(test_data),\n",
        "                                              callbacks=[create_tensorboard_callback(dir_name=\"tensorflow_hub\", \n",
        "                                                                                     experiment_name=\"efficientnetB0\")])"
      ],
      "execution_count": 23,
      "outputs": [
        {
          "output_type": "stream",
          "text": [
            "TensorBoard günlük dosyalarını kaydetme: tensorflow_hub/efficientnetB0/20210718-072739\n",
            "Epoch 1/5\n",
            "24/24 [==============================] - 26s 784ms/step - loss: 1.8246 - accuracy: 0.4560 - val_loss: 1.2880 - val_accuracy: 0.7260\n",
            "Epoch 2/5\n",
            "24/24 [==============================] - 15s 626ms/step - loss: 1.0520 - accuracy: 0.7760 - val_loss: 0.8606 - val_accuracy: 0.8164\n",
            "Epoch 3/5\n",
            "24/24 [==============================] - 15s 656ms/step - loss: 0.7489 - accuracy: 0.8333 - val_loss: 0.6961 - val_accuracy: 0.8452\n",
            "Epoch 4/5\n",
            "24/24 [==============================] - 16s 666ms/step - loss: 0.6025 - accuracy: 0.8587 - val_loss: 0.6101 - val_accuracy: 0.8576\n",
            "Epoch 5/5\n",
            "24/24 [==============================] - 15s 634ms/step - loss: 0.5112 - accuracy: 0.8947 - val_loss: 0.5553 - val_accuracy: 0.8648\n"
          ],
          "name": "stdout"
        }
      ]
    },
    {
      "cell_type": "markdown",
      "metadata": {
        "id": "-bvmnFC6g2lC"
      },
      "source": [
        "`EfficientNetB0` modeli, `ResNetV250` modelinden bile daha iyi bir sonuç verdi! Yine eğitim verilerinin yalnızca %10'u ile test setinde %85'in üzerinde doğruluk elde etmek. Ne kadar havalı değil mi?\n",
        "\n",
        "Birkaç satır kodla, son teknoloji modellerden yararlanabiliyor ve bunları kendi kullanım durumumuza göre ayarlayabiliyoruz.\n",
        "\n",
        "Kayıp (Loss) eğrilerini kontrol edelim."
      ]
    },
    {
      "cell_type": "code",
      "metadata": {
        "colab": {
          "base_uri": "https://localhost:8080/",
          "height": 573
        },
        "id": "U_X4cPm6g0rT",
        "outputId": "eac608c6-2be4-4c3e-87b6-32297f70bb15"
      },
      "source": [
        "plot_loss_curves(efficientnet_history)"
      ],
      "execution_count": 24,
      "outputs": [
        {
          "output_type": "display_data",
          "data": {
            "image/png": "[encoded data removed]",
            "text/plain": [
              "<Figure size 432x288 with 1 Axes>"
            ]
          },
          "metadata": {
            "tags": [],
            "needs_background": "light"
          }
        },
        {
          "output_type": "display_data",
          "data": {
            "image/png": "[encoded data removed]",
            "text/plain": [
              "<Figure size 432x288 with 1 Axes>"
            ]
          },
          "metadata": {
            "tags": [],
            "needs_background": "light"
          }
        }
      ]
    },
    {
      "cell_type": "markdown",
      "metadata": {
        "id": "gsTsp27QhGFf"
      },
      "source": [
        "EfficientNetB0 modelinin kayıp eğrilerine bakıldığında, modelimizi daha uzun süre eğitmeye devam edersek, daha da gelişebilir gibi görünüyor. Belki de denemek isteyebileceğiniz bir şeydir?\n",
        "\n",
        "Model özetini kontrol edelim."
      ]
    },
    {
      "cell_type": "code",
      "metadata": {
        "colab": {
          "base_uri": "https://localhost:8080/"
        },
        "id": "PtXsWSjDhDFD",
        "outputId": "65dac114-cb2e-4be4-f2cd-5b15809b1034"
      },
      "source": [
        "efficientnet_model.summary()"
      ],
      "execution_count": 25,
      "outputs": [
        {
          "output_type": "stream",
          "text": [
            "Model: \"sequential_1\"\n",
            "_________________________________________________________________\n",
            "Layer (type)                 Output Shape              Param #   \n",
            "=================================================================\n",
            "feature_extraction_layer (Ke (None, 1280)              4049564   \n",
            "_________________________________________________________________\n",
            "output_layer (Dense)         (None, 10)                12810     \n",
            "=================================================================\n",
            "Total params: 4,062,374\n",
            "Trainable params: 12,810\n",
            "Non-trainable params: 4,049,564\n",
            "_________________________________________________________________\n"
          ],
          "name": "stdout"
        }
      ]
    },
    {
      "cell_type": "markdown",
      "metadata": {
        "id": "pJsl6ZnvhR2x"
      },
      "source": [
        "ResNet50V2 çıkarma katmanından dört kat daha az parametreye (4.049.564'e karşı 23.564.800) sahip olmasına rağmen, EfficientNetB0 özellik çıkarma katmanı daha iyi performans sağlıyor gibi görünüyor. Şimdi \"verimli(efficient)\" ismin nereden geldiği açığa kavuştu."
      ]
    },
    {
      "cell_type": "markdown",
      "metadata": {
        "id": "-ZK05pvThdba"
      },
      "source": [
        "## TensorBoard Kullanarak Modelleri Karşılaştırma\n",
        "\n",
        "Pekala, doğruluk puanlarına bakarak iki modelimizin performansını zaten karşılaştırmış olmamıza rağmen. Peki ya ikiden fazla modeliniz varsa?\n",
        "\n",
        "TensorBoard (Google Colab'a önceden yüklenmiş) gibi bir deneme izleme aracının devreye girdiği yer burasıdır.\n",
        "\n",
        "İşin iyi yanı, bir TensorBoard geri araması oluşturduğumuzdan, modelimizin tüm eğitim günlükleri otomatik olarak kaydedildi. Bunları görselleştirmek için sonuçları TensorBoard.dev'e yükleyebiliriz.\n",
        "\n",
        "Sonuçlarınızı TensorBoard.dev'e yüklemek, birden çok farklı modelleme deneyini izlemenize ve paylaşmanıza olanak tanır. Dolayısıyla, sonuçlarınızı birine göstermeniz gerekirse, onlara TensorBoard.dev'inize ve beraberindeki Colab not defterine bir bağlantı gönderebilirsiniz.\n",
        "\n",
        "> 🔑 Not: Bu deneyler herkese açıktır, hassas verileri yüklemeyin. Gerekirse deneyleri silebilirsiniz.\n",
        "\n",
        "TensorBoard'a bir dizi TensorFlow günlüğü yüklemek için aşağıdaki komutu kullanabiliriz:\n",
        "\n",
        "```\n",
        "!tensorboard dev upload --logdir ./tensorflow_hub/ \\ upload directory\n",
        "  --name \"EfficientNetB0 vs. ResNet50V2\" \\ \n",
        "  --description \"Comparing two different TF Hub feature extraction models architectures using 10% of training images\" \\ \n",
        "  --one_shot\n",
        "```\n",
        "\n",
        "- **--logdir** hedef yükleme dizinidir\n",
        "- **--name** deneyin adıdır\n",
        "- **--description**, deneyin kısa bir açıklamasıdır\n",
        "- **--one_shot**, yükleme tamamlandığında TensorBoard yükleyicisinden çıkar\n",
        "\n",
        "Tensorboard dev yükleme komutunu çalıştırmak, önce sizden TensorBoard.dev'e yüklemeyi yetkilendirmenizi isteyecektir. Yüklemeye yetki verdikten sonra günlük dosyalarınız yüklenecektir."
      ]
    },
    {
      "cell_type": "code",
      "metadata": {
        "colab": {
          "base_uri": "https://localhost:8080/"
        },
        "id": "krbaRN6YhKol",
        "outputId": "5ec3ff9b-0f63-4a54-904e-81ca3b52b469"
      },
      "source": [
        "!tensorboard dev upload --logdir ./tensorflow_hub/ \\\n",
        "  --name \"EfficientNetB0 vs. ResNet50V2\" \\\n",
        "  --description \"Eğitim görüntülerinin %10'unu kullanarak iki farklı TF Hub özellik çıkarma modeli mimarisini karşılaştırma\" \\\n",
        "  --one_shot"
      ],
      "execution_count": 27,
      "outputs": [
        {
          "output_type": "stream",
          "text": [
            "2021-07-18 07:32:27.365995: I tensorflow/stream_executor/platform/default/dso_loader.cc:53] Successfully opened dynamic library libcudart.so.11.0\n",
            "\n",
            "***** TensorBoard Uploader *****\n",
            "\n",
            "This will upload your TensorBoard logs to https://tensorboard.dev/ from\n",
            "the following directory:\n",
            "\n",
            "./tensorflow_hub/\n",
            "\n",
            "This TensorBoard will be visible to everyone. Do not upload sensitive\n",
            "data.\n",
            "\n",
            "Your use of this service is subject to Google's Terms of Service\n",
            "<https://policies.google.com/terms> and Privacy Policy\n",
            "<https://policies.google.com/privacy>, and TensorBoard.dev's Terms of Service\n",
            "<https://tensorboard.dev/policy/terms/>.\n",
            "\n",
            "This notice will not be shown again while you are logged into the uploader.\n",
            "To log out, run `tensorboard dev auth revoke`.\n",
            "\n",
            "Continue? (yes/NO) yes\n",
            "\n",
            "Please visit this URL to authorize this application: https://accounts.google.com/o/oauth2/auth?response_type=code&client_id=373649185512-8v619h5kft38l4456nm2dj4ubeqsrvh6.apps.googleusercontent.com&redirect_uri=urn%3Aietf%3Awg%3Aoauth%3A2.0%3Aoob&scope=openid+https%3A%2F%2Fwww.googleapis.com%2Fauth%2Fuserinfo.email&state=bf8UoFUQvUQSTPqShxA60TFbcmiXbj&prompt=consent&access_type=offline\n",
            "Enter the authorization code: 4/1AX4XfWgr_3RcFJ17qHRy42CpJB67ENEt-17XiwOjtcTFfG4dkewDiiQbWJU\n",
            "\n",
            "Data for the \"text\" plugin is now uploaded to TensorBoard.dev! Note that uploaded data is public. If you do not want to upload data for this plugin, use the \"--plugins\" command line argument.\n",
            "\n",
            "New experiment created. View your TensorBoard at: https://tensorboard.dev/experiment/8GMyPMx6Q8i6PWKxlobOUA/\n",
            "\n",
            "\u001b[1m[2021-07-18T07:32:52]\u001b[0m Started scanning logdir.\n",
            "\u001b[1m[2021-07-18T07:32:54]\u001b[0m Total uploaded: 60 scalars, 0 tensors, 2 binary objects (5.8 MB)\n",
            "\u001b[1m[2021-07-18T07:32:54]\u001b[0m Done scanning logdir.\n",
            "\n",
            "\n",
            "Done. View your TensorBoard at https://tensorboard.dev/experiment/8GMyPMx6Q8i6PWKxlobOUA/\n"
          ],
          "name": "stdout"
        }
      ]
    },
    {
      "cell_type": "markdown",
      "metadata": {
        "id": "r16dg516iGtg"
      },
      "source": [
        "Aynı dizini tekrar yüklerseniz, onunla birlikte kullanabileceğiniz yeni bir deneme kimliği alırsınız.\n",
        "\n",
        "Bu, denemelerinizi izlemek için yüklemelerinizi nasıl adlandırdığınıza bakmak isteyebilirsiniz. Bu şekilde, onları TensorBoard.dev'de bulduğunuzda, her deney sırasında ne olduğunu anlayabilirsiniz (örneğin, \"efficientNet0_10_percent_data\").\n",
        "\n",
        "Yüklediğiniz tüm deneyleri görmek için şu komutu kullanabilirsiniz:"
      ]
    },
    {
      "cell_type": "code",
      "metadata": {
        "colab": {
          "base_uri": "https://localhost:8080/"
        },
        "id": "Y9XanmyRh2m3",
        "outputId": "e344955a-a59c-4deb-a42b-49ad7ca49fd4"
      },
      "source": [
        "!tensorboard dev list"
      ],
      "execution_count": 28,
      "outputs": [
        {
          "output_type": "stream",
          "text": [
            "2021-07-18 07:33:48.244992: I tensorflow/stream_executor/platform/default/dso_loader.cc:53] Successfully opened dynamic library libcudart.so.11.0\n",
            "Data for the \"text\" plugin is now uploaded to TensorBoard.dev! Note that uploaded data is public. If you do not want to upload data for this plugin, use the \"--plugins\" command line argument.\n",
            "https://tensorboard.dev/experiment/8GMyPMx6Q8i6PWKxlobOUA/\n",
            "\tName                 EfficientNetB0 vs. ResNet50V2\n",
            "\tDescription          Eğitim görüntülerinin %10'unu kullanarak iki farklı TF Hub özellik çıkarma modeli mimarisini karşılaştırma\n",
            "\tId                   8GMyPMx6Q8i6PWKxlobOUA\n",
            "\tCreated              2021-07-18 07:32:52 (1 minute ago)\n",
            "\tUpdated              2021-07-18 07:32:54 (1 minute ago)\n",
            "\tRuns                 4\n",
            "\tTags                 5\n",
            "\tScalars              60\n",
            "\tTensor bytes         0\n",
            "\tBinary object bytes  6086643\n",
            "https://tensorboard.dev/experiment/i2nAxQRWTdi5SaO8AGLEyQ/\n",
            "\tName                 Transfer learning experiments\n",
            "\tDescription          A series of different transfer learning experiments with varying amounts of data and fine-tuning\n",
            "\tId                   i2nAxQRWTdi5SaO8AGLEyQ\n",
            "\tCreated              2021-06-20 19:15:09\n",
            "\tUpdated              2021-06-20 19:15:14\n",
            "\tRuns                 10\n",
            "\tTags                 5\n",
            "\tScalars              162\n",
            "\tTensor bytes         0\n",
            "\tBinary object bytes  4197130\n",
            "Total: 2 experiment(s)\n"
          ],
          "name": "stdout"
        }
      ]
    },
    {
      "cell_type": "markdown",
      "metadata": {
        "id": "i_6-n4wxiWgw"
      },
      "source": [
        "<img src=\"https://i.ibb.co/bKLwqgv/Screenshot-from-2021-07-18-10-34-59.png\" />\n",
        "\n",
        "Unutmayın, TensorBoard.dev'e yapılan tüm yüklemeler herkese açıktır, bu nedenle bir deneyi silmek için şu komutu kullanabilirsiniz:\n",
        "\n",
        "`tensorboard dev delete --experiment_id [INSERT_EXPERIMENT_ID]`"
      ]
    },
    {
      "cell_type": "code",
      "metadata": {
        "colab": {
          "base_uri": "https://localhost:8080/"
        },
        "id": "uwumnvJai6y_",
        "outputId": "3d174e4d-dc76-4b75-db62-47158f667d7d"
      },
      "source": [
        "# Delete an experiment\n",
        "!tensorboard dev delete --experiment_id 8GMyPMx6Q8i6PWKxlobOUA"
      ],
      "execution_count": 30,
      "outputs": [
        {
          "output_type": "stream",
          "text": [
            "2021-07-18 07:37:06.957170: I tensorflow/stream_executor/platform/default/dso_loader.cc:53] Successfully opened dynamic library libcudart.so.11.0\n",
            "Data for the \"text\" plugin is now uploaded to TensorBoard.dev! Note that uploaded data is public. If you do not want to upload data for this plugin, use the \"--plugins\" command line argument.\n",
            "Deleted experiment 8GMyPMx6Q8i6PWKxlobOUA.\n"
          ],
          "name": "stdout"
        }
      ]
    },
    {
      "cell_type": "code",
      "metadata": {
        "colab": {
          "base_uri": "https://localhost:8080/"
        },
        "id": "OH15OmmKi_js",
        "outputId": "360c8d78-a8ac-43bb-d98c-5da00af24b8a"
      },
      "source": [
        "# hala var olup olmadığını kontrol edin\n",
        "!tensorboard dev list"
      ],
      "execution_count": 31,
      "outputs": [
        {
          "output_type": "stream",
          "text": [
            "2021-07-18 07:37:31.456131: I tensorflow/stream_executor/platform/default/dso_loader.cc:53] Successfully opened dynamic library libcudart.so.11.0\n",
            "Data for the \"text\" plugin is now uploaded to TensorBoard.dev! Note that uploaded data is public. If you do not want to upload data for this plugin, use the \"--plugins\" command line argument.\n",
            "No experiments. Use `tensorboard dev upload` to get started.\n"
          ],
          "name": "stdout"
        }
      ]
    }
  ]
}