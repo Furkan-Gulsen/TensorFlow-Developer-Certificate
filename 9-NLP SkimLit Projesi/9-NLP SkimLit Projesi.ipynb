{
  "nbformat": 4,
  "nbformat_minor": 0,
  "metadata": {
    "colab": {
      "name": "10.SkimLit NLP Milestone Project 2.ipynb",
      "provenance": [],
      "collapsed_sections": []
    },
    "kernelspec": {
      "name": "python3",
      "display_name": "Python 3"
    },
    "language_info": {
      "name": "python"
    }
  },
  "cells": [
    {
      "cell_type": "markdown",
      "metadata": {
        "id": "8L8f4JfB5eeI"
      },
      "source": [
        "Önceki not defterinde ([TensorFlow'da NLP temelleri](https://github.com/mrdbourke/tensorflow-deep-learning/blob/main/08_introduction_to_nlp_in_tensorflow.ipynb)), bazı temel doğal dil işleme kavramlarını inceledik. Bunların başlıcaları **tokenization** (kelimeleri sayılara çevirme) ve **create embeddings** (kelimelerin sayısal temsilini oluşturma).\n",
        "\n",
        "Bu projede öğrendiklerimizi pratiğe dökeceğiz.\n",
        "\n",
        "Daha spesifik olarak, 2017 makalesinin arkasındaki derin öğrenme modelini kopyalayacağız [*PubMed 200k RCT: Tıbbi Özetlerde Sıralı Cümle Sınıflandırması için bir Veri Kümesi*](https://arxiv.org/abs/1710.06071).\n",
        "\n",
        "Yayınlandığında, makale ~200.000 etiketli Randomized Controlled Trial (RCT) özetlerinden oluşan PubMed 200k RCT adlı yeni bir veri seti sundu.\n",
        "\n",
        "Veri kümesinin amacı, NLP modellerinin sıralı sırada görünen cümleleri sınıflandırma yeteneğini keşfetmekti. Başka bir deyişle, bir RCT'nin özeti verildiğinde, her bir cümle özette nasıl bir rol oynar?\n",
        "\n",
        "![Skimlit örnek girişler ve çıkışlar](https://raw.githubusercontent.com/mrdbourke/tensorflow-deep-learning/main/images/09-skimlit-overview-input-and-output.png)\n",
        "\n",
        "### Model Input\n",
        "\n",
        "Örneğin, aşağıdaki girdiyi alan bir NLP modelini eğitebilir miyiz (not: aşağıdaki örnekte tüm sayısal semboller \"@\" ile değiştirilmiştir):\n",
        "\n",
        "> To investigate the efficacy of @ weeks of daily low-dose oral prednisolone in improving pain , mobility , and systemic low-grade inflammation in the short term and whether the effect would be sustained at @ weeks in older adults with moderate to severe knee osteoarthritis ( OA ). A total of @ patients with primary knee OA were randomized @:@ ; @ received @ mg/day of prednisolone and @ received placebo for @ weeks. Outcome measures included pain reduction and improvement in function scores and systemic inflammation markers. Pain was assessed using the visual analog pain scale ( @-@ mm ).\n",
        "Secondary outcome measures included the Western Ontario and McMaster Universities Osteoarthritis Index scores , patient global assessment ( PGA ) of the severity of knee OA , and @-min walk distance ( @MWD ).,\n",
        "Serum levels of interleukin @ ( IL-@ ) , IL-@ , tumor necrosis factor ( TNF ) - , and high-sensitivity C-reactive protein ( hsCRP ) were measured.\n",
        "There was a clinically relevant reduction in the intervention group compared to the placebo group for knee pain , physical function , PGA , and @MWD at @ weeks. The mean difference between treatment arms ( @ % CI ) was @ ( @-@ @ ) , p < @ ; @ ( @-@ @ ) , p < @ ; @ ( @-@ @ ) , p < @ ; and @ ( @-@ @ ) , p < @ , respectively. Further , there was a clinically relevant reduction in the serum levels of IL-@ , IL-@ , TNF - , and hsCRP at @ weeks in the intervention group when compared to the placebo group. These differences remained significant at @ weeks. The Outcome Measures in Rheumatology Clinical Trials-Osteoarthritis Research Society International responder rate was @ % in the intervention group and @ % in the placebo group ( p < @ ). Low-dose oral prednisolone had both a short-term and a longer sustained effect resulting in less knee pain , better physical function , and attenuation of systemic inflammation in older patients with knee OA ( ClinicalTrials.gov identifier NCT@ ).\n",
        "\n",
        "### Model Output\n",
        "\n",
        "Yukarıda ki input değeri aşağıdaki çıktıyı döndürür:\n",
        "\n",
        "```\n",
        "['###24293578\\n',\n",
        " 'OBJECTIVE\\tTo investigate the efficacy of @ weeks of daily low-dose oral prednisolone in improving pain , mobility , and systemic low-grade inflammation in the short term and whether the effect would be sustained at @ weeks in older adults with moderate to severe knee osteoarthritis ( OA ) .\\n',\n",
        " 'METHODS\\tA total of @ patients with primary knee OA were randomized @:@ ; @ received @ mg/day of prednisolone and @ received placebo for @ weeks .\\n',\n",
        " 'METHODS\\tOutcome measures included pain reduction and improvement in function scores and systemic inflammation markers .\\n',\n",
        " 'METHODS\\tPain was assessed using the visual analog pain scale ( @-@ mm ) .\\n',\n",
        " 'METHODS\\tSecondary outcome measures included the Western Ontario and McMaster Universities Osteoarthritis Index scores , patient global assessment ( PGA ) of the severity of knee OA , and @-min walk distance ( @MWD ) .\\n',\n",
        " 'METHODS\\tSerum levels of interleukin @ ( IL-@ ) , IL-@ , tumor necrosis factor ( TNF ) - , and high-sensitivity C-reactive protein ( hsCRP ) were measured .\\n',\n",
        " 'RESULTS\\tThere was a clinically relevant reduction in the intervention group compared to the placebo group for knee pain , physical function , PGA , and @MWD at @ weeks .\\n',\n",
        " 'RESULTS\\tThe mean difference between treatment arms ( @ % CI ) was @ ( @-@ @ ) , p < @ ; @ ( @-@ @ ) , p < @ ; @ ( @-@ @ ) , p < @ ; and @ ( @-@ @ ) , p < @ , respectively .\\n',\n",
        " 'RESULTS\\tFurther , there was a clinically relevant reduction in the serum levels of IL-@ , IL-@ , TNF - , and hsCRP at @ weeks in the intervention group when compared to the placebo group .\\n',\n",
        " 'RESULTS\\tThese differences remained significant at @ weeks .\\n',\n",
        " 'RESULTS\\tThe Outcome Measures in Rheumatology Clinical Trials-Osteoarthritis Research Society International responder rate was @ % in the intervention group and @ % in the placebo group ( p < @ ) .\\n',\n",
        " 'CONCLUSIONS\\tLow-dose oral prednisolone had both a short-term and a longer sustained effect resulting in less knee pain , better physical function , and attenuation of systemic inflammation in older patients with knee OA ( ClinicalTrials.gov identifier NCT@ ) .\\n',\n",
        " '\\n']\n",
        " ```\n",
        "\n",
        "### Sorun\n",
        "\n",
        "Yayınlanan RKÇ makalelerinin sayısı artmaya devam ediyor, yapılandırılmış özetleri olmayanların okunması zor olabilir ve dolayısıyla literatürde ilerleyen araştırmacıları yavaşlatabilir.\n",
        "\n",
        " \n",
        "### Çözüm\n",
        "\n",
        "Soyut cümleleri oynadıkları role göre sınıflandırmak için bir NLP modeli oluşturun (ör. amaç, yöntemler, sonuçlar, vb.), araştırmacıların literatüre göz atmasını (dolayısıyla SkimLit 🤓🔥) ve gerektiğinde daha derine dalmasını sağlayın.\n",
        "\n",
        "> 📖 **Kaynaklar:** Bu not defterindeki kodu gözden geçirmeden önce, ne yapacağımıza dair bir arka plan almak isteyebilirsiniz. Bunu yapmak için bir (veya iki) saatinizi aşağıdaki makaleleri gözden geçirin ve ardından bu not defterine geri dönün:\n",
        "1. Verilerimizin geldiği yer: [*PubMed 200k RCT: a Dataset for Sequential Sentence Classification in Medical Abstracts*](https://arxiv.org/abs/1710.06071)\n",
        "2. Modelimizin nereden geldiği: [*Neural networks for joint sentence classification in medical paper abstracts*](https://arxiv.org/pdf/1612.05251.pdf).\n",
        "\n",
        "\n",
        "## Amacımız ne?\n",
        "\n",
        "NLP'nin temelleri yazısında öğrendiklerimizi kullanma zamanı geldi Bu eğitimde şimdiye kadarki en büyük NLP modelimizi oluşturacağız.\n",
        "\n",
        "* Bir metin veri kümesi indirme ([GitHub'dan PubMed RCT200k](https://github.com/Franck-Dernoncourt/pubmed-rct))\n",
        "* Verilerimizi modellemeye hazırlamak için bir ön işleme fonksiyonu yazma\n",
        "* Bir dizi modelleme deneyi kurma\n",
        "   * Temel oluşturma (TF-IDF sınıflandırıcı)\n",
        "   * Farklı kombinasyonlara sahip derin modeller: token embeddings, character embeddings, pretrained embeddings, positional embeddings\n",
        "* İlk multimodal modelimizi oluşturma (birden fazla veri input türü alarak)\n",
        "   * Model mimarisini https://arxiv.org/pdf/1612.05251.pdf adresinden çoğaltma\n",
        "* En yanlış tahminleri bulma\n",
        "* Vahşi doğadan PubMed özetleri hakkında tahminlerde bulunma"
      ]
    },
    {
      "cell_type": "markdown",
      "metadata": {
        "id": "YjJUcAvVM4md"
      },
      "source": [
        "## Veri Alma\n",
        "\n",
        "Bir model oluşturmaya başlamadan önce PubMed 200k RCT veri setini indirmemiz gerekiyor.\n",
        "\n",
        "Makalenin yazarları olağanüstü bir nezaket göstererek araştırmaları için kullandıkları verileri .txt dosyaları biçiminde [GitHub'da](https://github.com/Franck-Dernoncourt/) herkese açık olarak ve ücretsiz olarak kullanılabilir hale getirdiler. pubmed-rct).\n",
        "\n",
        "Bunları `git klonu https://github.com/Franck-Dernoncourt/pubmed-rct` kullanarak yerel dizinimize kopyalayabiliriz."
      ]
    },
    {
      "cell_type": "code",
      "metadata": {
        "colab": {
          "base_uri": "https://localhost:8080/"
        },
        "id": "WVUfSlua5cjS",
        "outputId": "7c0a45a4-f6f2-483f-e153-dcd4da2d0440"
      },
      "source": [
        "!git clone https://github.com/Franck-Dernoncourt/pubmed-rct.git\n",
        "!ls pubmed-rct"
      ],
      "execution_count": 1,
      "outputs": [
        {
          "output_type": "stream",
          "name": "stdout",
          "text": [
            "Cloning into 'pubmed-rct'...\n",
            "remote: Enumerating objects: 33, done.\u001b[K\n",
            "remote: Counting objects: 100% (3/3), done.\u001b[K\n",
            "remote: Compressing objects: 100% (3/3), done.\u001b[K\n",
            "remote: Total 33 (delta 0), reused 0 (delta 0), pack-reused 30\u001b[K\n",
            "Unpacking objects: 100% (33/33), done.\n",
            "PubMed_200k_RCT\n",
            "PubMed_200k_RCT_numbers_replaced_with_at_sign\n",
            "PubMed_20k_RCT\n",
            "PubMed_20k_RCT_numbers_replaced_with_at_sign\n",
            "README.md\n"
          ]
        }
      ]
    },
    {
      "cell_type": "markdown",
      "metadata": {
        "id": "vmKXgLNCNYiU"
      },
      "source": [
        "İndirilen havuzun içeriğini kontrol ederken, dört klasör olduğunu görebilirsiniz.\n",
        "\n",
        "Her biri, PubMed 200k RCT veri setinin farklı bir sürümünü içerir.\n",
        "\n",
        "GitHub sayfasındaki [README dosyasına](https://github.com/Franck-Dernoncourt/pubmed-rct) baktığımızda aşağıdaki bilgileri alıyoruz:\n",
        "* PubMed 20k, PubMed 200k'nin bir alt kümesidir. Yani, PubMed 20k'de bulunan herhangi bir özet, PubMed 200k'de de mevcuttur.\n",
        "* `PubMed_200k_RCT`, `PubMed_200k_RCT_numbers_replaced_with_at_sign` ile aynıdır, ancak ikincisinde tüm sayılar `@` ile değiştirilmiştir. (`PubMed_20k_RCT` ve `PubMed_20k_RCT_numbers_replaced_with_at_sign` için aynı).\n",
        "* Github dosya boyutu limiti 100 MiB olduğu için. `PubMed_200k_RCT\\train.7z` ve `PubMed_200k_RCT_numbers_replaced_with_at_sign\\train.zip` dosyalarını sıkıştırmamız gerekti. `train.7z` dosyasını açmak için Windows'ta 7-Zip, Mac OS X'te Keka veya Linux'ta p7zip kullanabilirsiniz.\n",
        "\n",
        "Başlangıç ​​olarak, odaklanacağımız veri kümesi `PubMed_20k_RCT_numbers_replaced_with_at_sign`.\n",
        "\n",
        "Neden bu?\n",
        "\n",
        "200 bin veri kümesinin tamamıyla çalışmak yerine, daha küçük bir alt kümeyle başlayarak deneylerimizi hızlı tutacağız. Dosya içeriğini kontrol edelim."
      ]
    },
    {
      "cell_type": "code",
      "metadata": {
        "colab": {
          "base_uri": "https://localhost:8080/"
        },
        "id": "aNw6SwtJKjFY",
        "outputId": "35152107-0866-4b8a-ab1e-df4a2786fa07"
      },
      "source": [
        "# PubMed_20K veri setinde hangi dosyaların olduğunu kontrol edelim\n",
        "!ls pubmed-rct/PubMed_20k_RCT_numbers_replaced_with_at_sign"
      ],
      "execution_count": 2,
      "outputs": [
        {
          "output_type": "stream",
          "name": "stdout",
          "text": [
            "dev.txt  test.txt  train.txt\n"
          ]
        }
      ]
    },
    {
      "cell_type": "markdown",
      "metadata": {
        "id": "4biedqBnOML4"
      },
      "source": [
        "Güzel, görünüşe göre üç ayrı metin dosyamız var:\n",
        "* `train.txt`  - eğitim örnekleri.\n",
        "* `dev.txt` - dev, doğrulama kümesinin başka bir adı olan geliştirme kümesinin kısaltmasıdır (bizim durumumuzda, doğrulama kümemiz olarak bu dosyayı kullanacağız ve buna atıfta bulunacağız).\n",
        "* `test.txt` - test örnekleri.\n",
        "\n",
        "Her seferinde hedef dizinimize dosya yolunu yazarak kendimizi kurtarmak için, onu bir değişkene çevirelim."
      ]
    },
    {
      "cell_type": "code",
      "metadata": {
        "id": "lO21b-GBOMw0"
      },
      "source": [
        "# 20k veri setini kullanarak başlayalım\n",
        "data_dir = \"pubmed-rct/PubMed_20k_RCT_numbers_replaced_with_at_sign/\""
      ],
      "execution_count": 3,
      "outputs": []
    },
    {
      "cell_type": "code",
      "metadata": {
        "colab": {
          "base_uri": "https://localhost:8080/"
        },
        "id": "woVQRaGQOZ_A",
        "outputId": "ccb31fda-3d1c-4132-8f6f-9c2e20812bae"
      },
      "source": [
        "# Hedef dizindeki tüm dosya adlarını kontrol edelim\n",
        "import os\n",
        "filenames = [data_dir + filename for filename in os.listdir(data_dir)]\n",
        "filenames"
      ],
      "execution_count": 4,
      "outputs": [
        {
          "output_type": "execute_result",
          "data": {
            "text/plain": [
              "['pubmed-rct/PubMed_20k_RCT_numbers_replaced_with_at_sign/train.txt',\n",
              " 'pubmed-rct/PubMed_20k_RCT_numbers_replaced_with_at_sign/dev.txt',\n",
              " 'pubmed-rct/PubMed_20k_RCT_numbers_replaced_with_at_sign/test.txt']"
            ]
          },
          "metadata": {},
          "execution_count": 4
        }
      ]
    },
    {
      "cell_type": "markdown",
      "metadata": {
        "id": "CCHPpO2tO1Nl"
      },
      "source": [
        "## Verileri ön işleme\n",
        "\n",
        "Tamam, şimdi biraz metin verisi indirdik, sence onu modellemeye hazır mıyız? Verileri indirdik ama henüz bakmadık bile. Herhangi bir yeni veri kümesine aşina olmanın sloganı nedir? Görselleştirme.\n",
        "\n",
        "Derin öğrenme modellerimiz için verilerimizi nasıl hazırlamamız gerektiğini anlamak ve aşina olmak için görselleştirmemiz gerekiyor. Verilerimiz metin dosyaları biçiminde olduğundan, bir hedef dosyadaki satırların her birini okumak için bir kod yazalım."
      ]
    },
    {
      "cell_type": "code",
      "metadata": {
        "id": "T_qp7-__O1FC"
      },
      "source": [
        "def get_lines(filename):\n",
        "  with open(filename, \"r\") as f:\n",
        "    return f.readlines()"
      ],
      "execution_count": 5,
      "outputs": []
    },
    {
      "cell_type": "markdown",
      "metadata": {
        "id": "aMn_tywXhclD"
      },
      "source": [
        "Pekala, bir metin dosyasının dosya yolunu alan, onu açan, satırların her birini okuyan ve onları döndüren get_lines() adında küçük bir fonksiyonumuz var.\n",
        "\n",
        "Bunu eğitim verileri üzerinde deneyelim (train.txt)."
      ]
    },
    {
      "cell_type": "code",
      "metadata": {
        "colab": {
          "base_uri": "https://localhost:8080/"
        },
        "id": "I3S9oovOhcgh",
        "outputId": "72671b9b-649e-4fb7-c851-b7a4a39cf852"
      },
      "source": [
        "train_lines = get_lines(data_dir+\"train.txt\")\n",
        "train_lines[:20] "
      ],
      "execution_count": 6,
      "outputs": [
        {
          "output_type": "execute_result",
          "data": {
            "text/plain": [
              "['###24293578\\n',\n",
              " 'OBJECTIVE\\tTo investigate the efficacy of @ weeks of daily low-dose oral prednisolone in improving pain , mobility , and systemic low-grade inflammation in the short term and whether the effect would be sustained at @ weeks in older adults with moderate to severe knee osteoarthritis ( OA ) .\\n',\n",
              " 'METHODS\\tA total of @ patients with primary knee OA were randomized @:@ ; @ received @ mg/day of prednisolone and @ received placebo for @ weeks .\\n',\n",
              " 'METHODS\\tOutcome measures included pain reduction and improvement in function scores and systemic inflammation markers .\\n',\n",
              " 'METHODS\\tPain was assessed using the visual analog pain scale ( @-@ mm ) .\\n',\n",
              " 'METHODS\\tSecondary outcome measures included the Western Ontario and McMaster Universities Osteoarthritis Index scores , patient global assessment ( PGA ) of the severity of knee OA , and @-min walk distance ( @MWD ) .\\n',\n",
              " 'METHODS\\tSerum levels of interleukin @ ( IL-@ ) , IL-@ , tumor necrosis factor ( TNF ) - , and high-sensitivity C-reactive protein ( hsCRP ) were measured .\\n',\n",
              " 'RESULTS\\tThere was a clinically relevant reduction in the intervention group compared to the placebo group for knee pain , physical function , PGA , and @MWD at @ weeks .\\n',\n",
              " 'RESULTS\\tThe mean difference between treatment arms ( @ % CI ) was @ ( @-@ @ ) , p < @ ; @ ( @-@ @ ) , p < @ ; @ ( @-@ @ ) , p < @ ; and @ ( @-@ @ ) , p < @ , respectively .\\n',\n",
              " 'RESULTS\\tFurther , there was a clinically relevant reduction in the serum levels of IL-@ , IL-@ , TNF - , and hsCRP at @ weeks in the intervention group when compared to the placebo group .\\n',\n",
              " 'RESULTS\\tThese differences remained significant at @ weeks .\\n',\n",
              " 'RESULTS\\tThe Outcome Measures in Rheumatology Clinical Trials-Osteoarthritis Research Society International responder rate was @ % in the intervention group and @ % in the placebo group ( p < @ ) .\\n',\n",
              " 'CONCLUSIONS\\tLow-dose oral prednisolone had both a short-term and a longer sustained effect resulting in less knee pain , better physical function , and attenuation of systemic inflammation in older patients with knee OA ( ClinicalTrials.gov identifier NCT@ ) .\\n',\n",
              " '\\n',\n",
              " '###24854809\\n',\n",
              " 'BACKGROUND\\tEmotional eating is associated with overeating and the development of obesity .\\n',\n",
              " 'BACKGROUND\\tYet , empirical evidence for individual ( trait ) differences in emotional eating and cognitive mechanisms that contribute to eating during sad mood remain equivocal .\\n',\n",
              " 'OBJECTIVE\\tThe aim of this study was to test if attention bias for food moderates the effect of self-reported emotional eating during sad mood ( vs neutral mood ) on actual food intake .\\n',\n",
              " 'OBJECTIVE\\tIt was expected that emotional eating is predictive of elevated attention for food and higher food intake after an experimentally induced sad mood and that attentional maintenance on food predicts food intake during a sad versus a neutral mood .\\n',\n",
              " 'METHODS\\tParticipants ( N = @ ) were randomly assigned to one of the two experimental mood induction conditions ( sad/neutral ) .\\n']"
            ]
          },
          "metadata": {},
          "execution_count": 6
        }
      ]
    },
    {
      "cell_type": "markdown",
      "metadata": {
        "id": "jVqxMnR6hoaN"
      },
      "source": [
        "Eğitim metin dosyasındaki satırları okumak, farklı soyut örnekleri içeren bir dizi listesi, bir örnekteki cümleler ve cümlenin özette oynadığı rol ile sonuçlanır.\n",
        "\n",
        "Her cümlenin rolü, her satırın başına bir sekme (`\\t`) ile ayrılmış olarak eklenir ve her cümle yeni bir satırla (`\\n`) biter.\n",
        "\n",
        "Farklı özetler, özet kimlikleri (`###` ile başlayan satırlar) ve yeni satırlar (`\\n`) ile ayrılır.\n",
        "\n",
        "Bunu bilerek, örneklerimizi gelecekteki makine öğrenimi modelimize eğitim verisi olarak geçmeye hazır hale getirmek için yapmamız gereken birkaç adım var gibi görünüyor.\n",
        "\n",
        "Aşağıdaki adımları gerçekleştirmek için bir fonksiyon yazalım:\n",
        "* Soyut örneklerden oluşan bir hedef dosya alın.\n",
        "* Hedef dosyadaki satırları okuyun.\n",
        "* Hedef dosyadaki her satır için:\n",
        "  * Satır `###' ile başlıyorsa, bunu bir özet kimliği ve yeni bir özetin başlangıcı olarak işaretleyin.\n",
        "    * Bir örnekteki satır sayısının sayısını tutun.\n",
        "  * Satır `\\n' ile başlıyorsa, soyut bir örneğin sonu olarak işaretleyin.\n",
        "    * Bir örnekteki toplam satırların sayısını tutun.\n",
        "  * Satırın etiketi olarak \\t'den önceki metni kaydedin.\n",
        "  * \\t'den sonraki metni satırın metni olarak kaydedin.\n",
        "* Hedef metin dosyasındaki tüm satırları, anahtar/değer çiftlerini içeren bir sözlük listesi olarak döndürün:\n",
        "  * `\"line_number\"` - satırın özetteki konumu (ör. `3`).\n",
        "  * `\"target\"` - özetteki satırın rolü (ör. \"HEDEF\").\n",
        "  * `\"text\"` - özetteki satırın metni.\n",
        "  * `\"total_lines\"` - soyut bir örnekteki toplam satırlar (ör. \"14\").\n",
        "* Özet ID'ler ve yeni satırlar, döndürülen önceden işlenmiş verilerden çıkarılmalıdır.\n",
        "\n",
        "Örnek:\n",
        "\n",
        "```\n",
        "[{'line_number': 0,\n",
        "  'target': 'OBJECTIVE',\n",
        "  'text': 'to investigate the efficacy of @ weeks of daily low-dose oral prednisolone in improving pain , mobility , and systemic low-grade inflammation in the short term and whether the effect would be sustained at @ weeks in older adults with moderate to severe knee osteoarthritis ( oa ) .',\n",
        "  'total_lines': 11},\n",
        "  ...]\n",
        "```"
      ]
    },
    {
      "cell_type": "code",
      "metadata": {
        "id": "xv0K6h87isxk"
      },
      "source": [
        "def preprocess_text_with_line_numbers(filename):\n",
        "  \"\"\"Abstract satır verilerinin sözlüklerinin bir listesini döndürür.\n",
        "\n",
        "  Dosya adını alır, içeriğini okur ve her satırda hedef etiketi, \n",
        "  cümlenin metni, mevcut özette kaç cümle olduğu ve hedef satırın \n",
        "  hangi cümle numarası olduğu gibi şeyleri çıkararak sıralar.\n",
        "  \n",
        "  Args:\n",
        "      filename: satır verilerini okumak ve çıkarmak için hedef metin \n",
        "                dosyasının bir dizesi.\n",
        "\n",
        "  Returns:\n",
        "     Her biri bir özetten bir satır, satır etiketi, özetteki satır konumu \n",
        "     ve özette satırın geldiği toplam satır sayısını içeren bir sözlük \n",
        "     listesi. Örneğin:\n",
        "      [{\"target\": 'CONCLUSION',\n",
        "        \"text\": The study couldn't have gone better, turns out people are \n",
        "                kinder than you think\",\n",
        "        \"line_number\": 8,\n",
        "        \"total_lines\": 8}]\n",
        "  \"\"\"\n",
        "  input_lines = get_lines(filename) # dosya adından tüm satırları al\n",
        "  abstract_lines = \"\" # boş bir abstract oluştur\n",
        "  abstract_samples = [] # boş bir abstract listesi oluştur\n",
        "  \n",
        "  # Hedef dosyadaki her satırda dolaşın\n",
        "  for line in input_lines:\n",
        "    if line.startswith(\"###\"): # satırın bir kimlik satırı olup olmadığını kontrol edin\n",
        "      abstract_id = line\n",
        "      abstract_lines = \"\" # abstract dizeyi sıfırla\n",
        "    elif line.isspace(): # satırın yeni bir satır olup olmadığını kontrol edin\n",
        "      abstract_line_split = abstract_lines.splitlines() # Abstractı ayrı satırlara bölme\n",
        "\n",
        "      # Abstracta her satırı yineleyin ve aynı anda sayın\n",
        "      for abstract_line_number, abstract_line in enumerate(abstract_line_split):\n",
        "        line_data = {} # boş bir dict oluştur\n",
        "        target_text_split = abstract_line.split(\"\\t\") # metinden hedef etiketi ayır\n",
        "        line_data[\"target\"] = target_text_split[0] # hedef etiketi al\n",
        "        line_data[\"text\"] = target_text_split[1].lower() # hedef metni al ve indir\n",
        "        line_data[\"line_number\"] = abstract_line_number # Özette çizgi hangi sayı doğrusunda görünüyor?\n",
        "        line_data[\"total_lines\"] = len(abstract_line_split) - 1 # abstracta toplam kaç satır var? (0'dan başla)\n",
        "        abstract_samples.append(line_data) # abstract örnekler listesine satır verileri ekle\n",
        "    \n",
        "    else: # yukarıdaki koşullar yerine getirilmezse, satır etiketli bir cümle içerir\n",
        "      abstract_lines += line\n",
        "  \n",
        "  return abstract_samples"
      ],
      "execution_count": 7,
      "outputs": []
    },
    {
      "cell_type": "markdown",
      "metadata": {
        "id": "mf27lf3omH7v"
      },
      "source": [
        "Güzel! Bu iyi görünen bir işlev. RCT 20k veri setlerimizin her birini önceden işlemek için kullanalım."
      ]
    },
    {
      "cell_type": "code",
      "metadata": {
        "colab": {
          "base_uri": "https://localhost:8080/"
        },
        "id": "0iiuOGypiqrQ",
        "outputId": "c77a9e41-9e4f-421f-85c0-0a35b10fe137"
      },
      "source": [
        "# Get data from file and preprocess it\n",
        "%%time\n",
        "train_samples = preprocess_text_with_line_numbers(data_dir + \"train.txt\")\n",
        "val_samples = preprocess_text_with_line_numbers(data_dir + \"dev.txt\") # dev is another name for validation set\n",
        "test_samples = preprocess_text_with_line_numbers(data_dir + \"test.txt\")\n",
        "len(train_samples), len(val_samples), len(test_samples)"
      ],
      "execution_count": 8,
      "outputs": [
        {
          "output_type": "stream",
          "name": "stdout",
          "text": [
            "CPU times: user 553 ms, sys: 141 ms, total: 694 ms\n",
            "Wall time: 702 ms\n"
          ]
        }
      ]
    },
    {
      "cell_type": "markdown",
      "metadata": {
        "id": "Bp5d-_XBmQx8"
      },
      "source": [
        "Eğitim örneklerimiz nasıl görünüyor?"
      ]
    },
    {
      "cell_type": "code",
      "metadata": {
        "colab": {
          "base_uri": "https://localhost:8080/"
        },
        "id": "J0vboaaKOb3E",
        "outputId": "b56edff2-6379-4f9f-9f5e-5647ca2edde3"
      },
      "source": [
        "# Eğitim verilerimizin ilk özetini kontrol edelim\n",
        "train_samples[:14]"
      ],
      "execution_count": 9,
      "outputs": [
        {
          "output_type": "execute_result",
          "data": {
            "text/plain": [
              "[{'line_number': 0,\n",
              "  'target': 'OBJECTIVE',\n",
              "  'text': 'to investigate the efficacy of @ weeks of daily low-dose oral prednisolone in improving pain , mobility , and systemic low-grade inflammation in the short term and whether the effect would be sustained at @ weeks in older adults with moderate to severe knee osteoarthritis ( oa ) .',\n",
              "  'total_lines': 11},\n",
              " {'line_number': 1,\n",
              "  'target': 'METHODS',\n",
              "  'text': 'a total of @ patients with primary knee oa were randomized @:@ ; @ received @ mg/day of prednisolone and @ received placebo for @ weeks .',\n",
              "  'total_lines': 11},\n",
              " {'line_number': 2,\n",
              "  'target': 'METHODS',\n",
              "  'text': 'outcome measures included pain reduction and improvement in function scores and systemic inflammation markers .',\n",
              "  'total_lines': 11},\n",
              " {'line_number': 3,\n",
              "  'target': 'METHODS',\n",
              "  'text': 'pain was assessed using the visual analog pain scale ( @-@ mm ) .',\n",
              "  'total_lines': 11},\n",
              " {'line_number': 4,\n",
              "  'target': 'METHODS',\n",
              "  'text': 'secondary outcome measures included the western ontario and mcmaster universities osteoarthritis index scores , patient global assessment ( pga ) of the severity of knee oa , and @-min walk distance ( @mwd ) .',\n",
              "  'total_lines': 11},\n",
              " {'line_number': 5,\n",
              "  'target': 'METHODS',\n",
              "  'text': 'serum levels of interleukin @ ( il-@ ) , il-@ , tumor necrosis factor ( tnf ) - , and high-sensitivity c-reactive protein ( hscrp ) were measured .',\n",
              "  'total_lines': 11},\n",
              " {'line_number': 6,\n",
              "  'target': 'RESULTS',\n",
              "  'text': 'there was a clinically relevant reduction in the intervention group compared to the placebo group for knee pain , physical function , pga , and @mwd at @ weeks .',\n",
              "  'total_lines': 11},\n",
              " {'line_number': 7,\n",
              "  'target': 'RESULTS',\n",
              "  'text': 'the mean difference between treatment arms ( @ % ci ) was @ ( @-@ @ ) , p < @ ; @ ( @-@ @ ) , p < @ ; @ ( @-@ @ ) , p < @ ; and @ ( @-@ @ ) , p < @ , respectively .',\n",
              "  'total_lines': 11},\n",
              " {'line_number': 8,\n",
              "  'target': 'RESULTS',\n",
              "  'text': 'further , there was a clinically relevant reduction in the serum levels of il-@ , il-@ , tnf - , and hscrp at @ weeks in the intervention group when compared to the placebo group .',\n",
              "  'total_lines': 11},\n",
              " {'line_number': 9,\n",
              "  'target': 'RESULTS',\n",
              "  'text': 'these differences remained significant at @ weeks .',\n",
              "  'total_lines': 11},\n",
              " {'line_number': 10,\n",
              "  'target': 'RESULTS',\n",
              "  'text': 'the outcome measures in rheumatology clinical trials-osteoarthritis research society international responder rate was @ % in the intervention group and @ % in the placebo group ( p < @ ) .',\n",
              "  'total_lines': 11},\n",
              " {'line_number': 11,\n",
              "  'target': 'CONCLUSIONS',\n",
              "  'text': 'low-dose oral prednisolone had both a short-term and a longer sustained effect resulting in less knee pain , better physical function , and attenuation of systemic inflammation in older patients with knee oa ( clinicaltrials.gov identifier nct@ ) .',\n",
              "  'total_lines': 11},\n",
              " {'line_number': 0,\n",
              "  'target': 'BACKGROUND',\n",
              "  'text': 'emotional eating is associated with overeating and the development of obesity .',\n",
              "  'total_lines': 10},\n",
              " {'line_number': 1,\n",
              "  'target': 'BACKGROUND',\n",
              "  'text': 'yet , empirical evidence for individual ( trait ) differences in emotional eating and cognitive mechanisms that contribute to eating during sad mood remain equivocal .',\n",
              "  'total_lines': 10}]"
            ]
          },
          "metadata": {},
          "execution_count": 9
        }
      ]
    },
    {
      "cell_type": "markdown",
      "metadata": {
        "id": "I3uJamuRmZ5v"
      },
      "source": [
        "Harika! Görünüşe göre `preprocess_text_with_line_numbers()` işlevimiz harika çalıştı.\n",
        "\n",
        "Sözlük listemizi `Pandas DataFrame`'lerine dönüştürerek onları daha iyi görselleştirmeye ne dersiniz?"
      ]
    },
    {
      "cell_type": "code",
      "metadata": {
        "colab": {
          "base_uri": "https://localhost:8080/",
          "height": 483
        },
        "id": "eKsA2SU5mUsL",
        "outputId": "13486e0d-46ce-497f-ef0c-c91fcc25c2cf"
      },
      "source": [
        "import pandas as pd\n",
        "train_df = pd.DataFrame(train_samples)\n",
        "val_df = pd.DataFrame(val_samples)\n",
        "test_df = pd.DataFrame(test_samples)\n",
        "train_df.head(14)"
      ],
      "execution_count": 10,
      "outputs": [
        {
          "output_type": "execute_result",
          "data": {
            "text/html": [
              "<div>\n",
              "<style scoped>\n",
              "    .dataframe tbody tr th:only-of-type {\n",
              "        vertical-align: middle;\n",
              "    }\n",
              "\n",
              "    .dataframe tbody tr th {\n",
              "        vertical-align: top;\n",
              "    }\n",
              "\n",
              "    .dataframe thead th {\n",
              "        text-align: right;\n",
              "    }\n",
              "</style>\n",
              "<table border=\"1\" class=\"dataframe\">\n",
              "  <thead>\n",
              "    <tr style=\"text-align: right;\">\n",
              "      <th></th>\n",
              "      <th>target</th>\n",
              "      <th>text</th>\n",
              "      <th>line_number</th>\n",
              "      <th>total_lines</th>\n",
              "    </tr>\n",
              "  </thead>\n",
              "  <tbody>\n",
              "    <tr>\n",
              "      <th>0</th>\n",
              "      <td>OBJECTIVE</td>\n",
              "      <td>to investigate the efficacy of @ weeks of dail...</td>\n",
              "      <td>0</td>\n",
              "      <td>11</td>\n",
              "    </tr>\n",
              "    <tr>\n",
              "      <th>1</th>\n",
              "      <td>METHODS</td>\n",
              "      <td>a total of @ patients with primary knee oa wer...</td>\n",
              "      <td>1</td>\n",
              "      <td>11</td>\n",
              "    </tr>\n",
              "    <tr>\n",
              "      <th>2</th>\n",
              "      <td>METHODS</td>\n",
              "      <td>outcome measures included pain reduction and i...</td>\n",
              "      <td>2</td>\n",
              "      <td>11</td>\n",
              "    </tr>\n",
              "    <tr>\n",
              "      <th>3</th>\n",
              "      <td>METHODS</td>\n",
              "      <td>pain was assessed using the visual analog pain...</td>\n",
              "      <td>3</td>\n",
              "      <td>11</td>\n",
              "    </tr>\n",
              "    <tr>\n",
              "      <th>4</th>\n",
              "      <td>METHODS</td>\n",
              "      <td>secondary outcome measures included the wester...</td>\n",
              "      <td>4</td>\n",
              "      <td>11</td>\n",
              "    </tr>\n",
              "    <tr>\n",
              "      <th>5</th>\n",
              "      <td>METHODS</td>\n",
              "      <td>serum levels of interleukin @ ( il-@ ) , il-@ ...</td>\n",
              "      <td>5</td>\n",
              "      <td>11</td>\n",
              "    </tr>\n",
              "    <tr>\n",
              "      <th>6</th>\n",
              "      <td>RESULTS</td>\n",
              "      <td>there was a clinically relevant reduction in t...</td>\n",
              "      <td>6</td>\n",
              "      <td>11</td>\n",
              "    </tr>\n",
              "    <tr>\n",
              "      <th>7</th>\n",
              "      <td>RESULTS</td>\n",
              "      <td>the mean difference between treatment arms ( @...</td>\n",
              "      <td>7</td>\n",
              "      <td>11</td>\n",
              "    </tr>\n",
              "    <tr>\n",
              "      <th>8</th>\n",
              "      <td>RESULTS</td>\n",
              "      <td>further , there was a clinically relevant redu...</td>\n",
              "      <td>8</td>\n",
              "      <td>11</td>\n",
              "    </tr>\n",
              "    <tr>\n",
              "      <th>9</th>\n",
              "      <td>RESULTS</td>\n",
              "      <td>these differences remained significant at @ we...</td>\n",
              "      <td>9</td>\n",
              "      <td>11</td>\n",
              "    </tr>\n",
              "    <tr>\n",
              "      <th>10</th>\n",
              "      <td>RESULTS</td>\n",
              "      <td>the outcome measures in rheumatology clinical ...</td>\n",
              "      <td>10</td>\n",
              "      <td>11</td>\n",
              "    </tr>\n",
              "    <tr>\n",
              "      <th>11</th>\n",
              "      <td>CONCLUSIONS</td>\n",
              "      <td>low-dose oral prednisolone had both a short-te...</td>\n",
              "      <td>11</td>\n",
              "      <td>11</td>\n",
              "    </tr>\n",
              "    <tr>\n",
              "      <th>12</th>\n",
              "      <td>BACKGROUND</td>\n",
              "      <td>emotional eating is associated with overeating...</td>\n",
              "      <td>0</td>\n",
              "      <td>10</td>\n",
              "    </tr>\n",
              "    <tr>\n",
              "      <th>13</th>\n",
              "      <td>BACKGROUND</td>\n",
              "      <td>yet , empirical evidence for individual ( trai...</td>\n",
              "      <td>1</td>\n",
              "      <td>10</td>\n",
              "    </tr>\n",
              "  </tbody>\n",
              "</table>\n",
              "</div>"
            ],
            "text/plain": [
              "         target  ... total_lines\n",
              "0     OBJECTIVE  ...          11\n",
              "1       METHODS  ...          11\n",
              "2       METHODS  ...          11\n",
              "3       METHODS  ...          11\n",
              "4       METHODS  ...          11\n",
              "5       METHODS  ...          11\n",
              "6       RESULTS  ...          11\n",
              "7       RESULTS  ...          11\n",
              "8       RESULTS  ...          11\n",
              "9       RESULTS  ...          11\n",
              "10      RESULTS  ...          11\n",
              "11  CONCLUSIONS  ...          11\n",
              "12   BACKGROUND  ...          10\n",
              "13   BACKGROUND  ...          10\n",
              "\n",
              "[14 rows x 4 columns]"
            ]
          },
          "metadata": {},
          "execution_count": 10
        }
      ]
    },
    {
      "cell_type": "markdown",
      "metadata": {
        "id": "FjRuy-MKozIr"
      },
      "source": [
        "Artık verilerimiz DataFrame formunda, üzerinde bazı veri analizleri yapabiliriz."
      ]
    },
    {
      "cell_type": "code",
      "metadata": {
        "colab": {
          "base_uri": "https://localhost:8080/"
        },
        "id": "J2JBFmDFmfbF",
        "outputId": "36975c28-1078-4f63-f519-947c1485fea1"
      },
      "source": [
        "# Train verilerinde etiketlerin dağılımı\n",
        "train_df.target.value_counts()"
      ],
      "execution_count": 11,
      "outputs": [
        {
          "output_type": "execute_result",
          "data": {
            "text/plain": [
              "METHODS        59353\n",
              "RESULTS        57953\n",
              "CONCLUSIONS    27168\n",
              "BACKGROUND     21727\n",
              "OBJECTIVE      13839\n",
              "Name: target, dtype: int64"
            ]
          },
          "metadata": {},
          "execution_count": 11
        }
      ]
    },
    {
      "cell_type": "markdown",
      "metadata": {
        "id": "zNks42xwpNqI"
      },
      "source": [
        "OBJECTIVE etiketine sahip cümleler en az yaygın olanlardır.\n",
        "Abstract uzunluklarımızın dağılımını kontrol etmeye ne dersiniz?"
      ]
    },
    {
      "cell_type": "code",
      "metadata": {
        "colab": {
          "base_uri": "https://localhost:8080/",
          "height": 267
        },
        "id": "a6nkq0JRo21y",
        "outputId": "7a3f4432-8e3d-460b-8144-e0f9fe6bd244"
      },
      "source": [
        "train_df.total_lines.plot.hist();"
      ],
      "execution_count": 12,
      "outputs": [
        {
          "output_type": "display_data",
          "data": {
            "image/png": "[encoded data removed]",
            "text/plain": [
              "<Figure size 432x288 with 1 Axes>"
            ]
          },
          "metadata": {
            "needs_background": "light"
          }
        }
      ]
    },
    {
      "cell_type": "markdown",
      "metadata": {
        "id": "GijYZpRtpdxe"
      },
      "source": [
        "Özetlerin çoğu 7 ila 15 cümle uzunluğunda gibi görünüyor.\n",
        "\n",
        "Bir modeli eğittiğimizde veya görünmeyen örnekler üzerinde test ettiğimizde, sonuçlarımızın tuhaf olmadığından emin olmak için bunları kontrol etmek önemlidir."
      ]
    },
    {
      "cell_type": "markdown",
      "metadata": {
        "id": "lLtp3MuNqz4I"
      },
      "source": [
        "### Cümle Listeleri\n",
        "\n",
        "Derin öğrenme modelimizi oluşturduğumuzda, ana girdilerinden biri bir dizi listesi (bir özetin satırları) olacaktır.\n",
        "\n",
        "Bunları, `\"text\"` sütunlarımızda `\"tolist()\"` yöntemini çağırarak DataFrame'lerimizden kolayca alabiliriz."
      ]
    },
    {
      "cell_type": "code",
      "metadata": {
        "colab": {
          "base_uri": "https://localhost:8080/"
        },
        "id": "oC0buVcPpT2r",
        "outputId": "a3978dcb-abde-42d2-9c3d-028c6facc1f5"
      },
      "source": [
        "# Soyut metin satırlarını listelere dönüştürelim\n",
        "train_sentences = train_df[\"text\"].tolist()\n",
        "val_sentences = val_df[\"text\"].tolist()\n",
        "test_sentences = test_df[\"text\"].tolist()\n",
        "len(train_sentences), len(val_sentences), len(test_sentences)"
      ],
      "execution_count": 13,
      "outputs": [
        {
          "output_type": "execute_result",
          "data": {
            "text/plain": [
              "(180040, 30212, 30135)"
            ]
          },
          "metadata": {},
          "execution_count": 13
        }
      ]
    },
    {
      "cell_type": "code",
      "metadata": {
        "colab": {
          "base_uri": "https://localhost:8080/"
        },
        "id": "_0xbKX3hrOwH",
        "outputId": "7bd29fc4-9a8f-4e8f-b71e-8194145c7036"
      },
      "source": [
        "# Eğitim cümlelerinin ilk 10 satırını görüntüleyelim\n",
        "train_sentences[:10]"
      ],
      "execution_count": 14,
      "outputs": [
        {
          "output_type": "execute_result",
          "data": {
            "text/plain": [
              "['to investigate the efficacy of @ weeks of daily low-dose oral prednisolone in improving pain , mobility , and systemic low-grade inflammation in the short term and whether the effect would be sustained at @ weeks in older adults with moderate to severe knee osteoarthritis ( oa ) .',\n",
              " 'a total of @ patients with primary knee oa were randomized @:@ ; @ received @ mg/day of prednisolone and @ received placebo for @ weeks .',\n",
              " 'outcome measures included pain reduction and improvement in function scores and systemic inflammation markers .',\n",
              " 'pain was assessed using the visual analog pain scale ( @-@ mm ) .',\n",
              " 'secondary outcome measures included the western ontario and mcmaster universities osteoarthritis index scores , patient global assessment ( pga ) of the severity of knee oa , and @-min walk distance ( @mwd ) .',\n",
              " 'serum levels of interleukin @ ( il-@ ) , il-@ , tumor necrosis factor ( tnf ) - , and high-sensitivity c-reactive protein ( hscrp ) were measured .',\n",
              " 'there was a clinically relevant reduction in the intervention group compared to the placebo group for knee pain , physical function , pga , and @mwd at @ weeks .',\n",
              " 'the mean difference between treatment arms ( @ % ci ) was @ ( @-@ @ ) , p < @ ; @ ( @-@ @ ) , p < @ ; @ ( @-@ @ ) , p < @ ; and @ ( @-@ @ ) , p < @ , respectively .',\n",
              " 'further , there was a clinically relevant reduction in the serum levels of il-@ , il-@ , tnf - , and hscrp at @ weeks in the intervention group when compared to the placebo group .',\n",
              " 'these differences remained significant at @ weeks .']"
            ]
          },
          "metadata": {},
          "execution_count": 14
        }
      ]
    },
    {
      "cell_type": "markdown",
      "metadata": {
        "id": "DKpXc0ZjtCTV"
      },
      "source": [
        "Pekala, metin örneklerimizi ayırdık. Tahmin edebileceğiniz gibi, makine öğrenimi modellerimizde kullanmadan önce metni sayılara dönüştürmek için kod yazmamız gerekecek, bu kısma yakında geleceğiz."
      ]
    },
    {
      "cell_type": "markdown",
      "metadata": {
        "id": "kyDQO7-AtZsc"
      },
      "source": [
        "## Sayısal Etiketleri Oluşturalım (ML modelleri sayısal etiketler gerektirir)\n",
        "\n",
        "Hot ve label encoded bir etiket oluşturacağız.\n",
        "\n",
        "Sadece etiketle kodlanmış encoded yapmakla kurtulabiliriz, ancak TensorFlow'un CategoricalCrossentropy kayıp işlevi bir hot encoded etikete sahip olmayı sever (bu, daha sonra tag smoothing kullanmamızı sağlar).\n",
        "\n",
        "Etiketleri sayısal olarak kodlamak için Scikit-Learn'in [`OneHotEncoder`](https://scikit-learn.org/stable/modules/generated/sklearn.preprocessing.OneHotEncoder.html) ve [`LabelEncoder`](http: //scikit-learn.org/stable/modules/generated/sklearn.preprocessing.LabelEncoder.html) sınıflarını kullanacağız."
      ]
    },
    {
      "cell_type": "code",
      "metadata": {
        "colab": {
          "base_uri": "https://localhost:8080/"
        },
        "id": "uK0reAcQrWs2",
        "outputId": "c8a99dcd-8be1-47f9-d841-c3520bb872ae"
      },
      "source": [
        "# One hot encode labels\n",
        "from sklearn.preprocessing import OneHotEncoder\n",
        "one_hot_encoder = OneHotEncoder(sparse=False)\n",
        "train_labels_one_hot = one_hot_encoder.fit_transform(train_df[\"target\"].to_numpy().reshape(-1, 1))\n",
        "val_labels_one_hot = one_hot_encoder.transform(val_df[\"target\"].to_numpy().reshape(-1, 1))\n",
        "test_labels_one_hot = one_hot_encoder.transform(test_df[\"target\"].to_numpy().reshape(-1, 1))\n",
        "\n",
        "# Training etiketlerinin nasıl göründüğünü kontrol edin\n",
        "train_labels_one_hot"
      ],
      "execution_count": 15,
      "outputs": [
        {
          "output_type": "execute_result",
          "data": {
            "text/plain": [
              "array([[0., 0., 0., 1., 0.],\n",
              "       [0., 0., 1., 0., 0.],\n",
              "       [0., 0., 1., 0., 0.],\n",
              "       ...,\n",
              "       [0., 0., 0., 0., 1.],\n",
              "       [0., 1., 0., 0., 0.],\n",
              "       [0., 1., 0., 0., 0.]])"
            ]
          },
          "metadata": {},
          "execution_count": 15
        }
      ]
    },
    {
      "cell_type": "markdown",
      "metadata": {
        "id": "h_VEyL2D1Pq4"
      },
      "source": [
        "### Label Encode Etiketleri"
      ]
    },
    {
      "cell_type": "code",
      "metadata": {
        "colab": {
          "base_uri": "https://localhost:8080/"
        },
        "id": "oqADrRLe0q1v",
        "outputId": "a2d734b8-afcb-414e-c5b3-c02860601737"
      },
      "source": [
        "# Etiketleri (\"OBJECTIVE\" sütunları) ayıklayın ve bunları tam sayılara kodlayın\n",
        "from sklearn.preprocessing import LabelEncoder\n",
        "label_encoder = LabelEncoder()\n",
        "train_labels_encoded = label_encoder.fit_transform(train_df[\"target\"].to_numpy())\n",
        "val_labels_encoded = label_encoder.transform(val_df[\"target\"].to_numpy())\n",
        "test_labels_encoded = label_encoder.transform(test_df[\"target\"].to_numpy())\n",
        "\n",
        "# Eğitim etiketlerinin nasıl göründüğünü kontrol edelim\n",
        "train_labels_encoded"
      ],
      "execution_count": 16,
      "outputs": [
        {
          "output_type": "execute_result",
          "data": {
            "text/plain": [
              "array([3, 2, 2, ..., 4, 1, 1])"
            ]
          },
          "metadata": {},
          "execution_count": 16
        }
      ]
    },
    {
      "cell_type": "markdown",
      "metadata": {
        "id": "_znvaPwUzt4v"
      },
      "source": [
        "Şimdi bir \"LabelEncoder\" örneğini eğittik, \"classes_\" özniteliğini kullanarak sınıf adlarını ve sınıfların sayısını alabiliriz."
      ]
    },
    {
      "cell_type": "code",
      "metadata": {
        "colab": {
          "base_uri": "https://localhost:8080/"
        },
        "id": "O0yeqqpFrYMS",
        "outputId": "f9533ade-4be9-473a-ebe6-2847ffd4481a"
      },
      "source": [
        "# LabelEncoder örneğinden sınıf adlarını ve sınıf sayısını alalım\n",
        "num_classes = len(label_encoder.classes_)\n",
        "class_names = label_encoder.classes_\n",
        "num_classes, class_names"
      ],
      "execution_count": 17,
      "outputs": [
        {
          "output_type": "execute_result",
          "data": {
            "text/plain": [
              "(5, array(['BACKGROUND', 'CONCLUSIONS', 'METHODS', 'OBJECTIVE', 'RESULTS'],\n",
              "       dtype=object))"
            ]
          },
          "metadata": {},
          "execution_count": 17
        }
      ]
    },
    {
      "cell_type": "markdown",
      "metadata": {
        "id": "g_UG6PqR0BFs"
      },
      "source": [
        "## Bir dizi model deneyi oluşturma\n",
        "\n",
        "Verilerimizi yeniden işledik, bu yüzden şimdi gerçek makine öğrenimi tarzında, bir dizi modelleme deneyi kurmanın zamanı geldi.\n",
        "\n",
        "*Tıbbi makale özetlerinde ortak cümle sınıflandırması için sinir ağları* bölümünde özetlenen dizi modelini kopyalamaya doğru ilerledikçe daha karmaşık modeller oluşturarak geçmeyi deneyeceğimiz bir puan elde etmek için basit bir temel model oluşturarak başlayacağız. (https://arxiv.org/pdf/1612.05251.pdf)\n",
        "\n",
        "Her model için, onu eğitim verileri üzerinde eğiteceğiz ve doğrulama verileri üzerinde değerlendireceğiz."
      ]
    },
    {
      "cell_type": "markdown",
      "metadata": {
        "id": "vOOaQs2L16BO"
      },
      "source": [
        "## Model 0: Baseline\n",
        "\n",
        "İlk modelimiz, [Scikit-Learn'in makine öğrenimi haritası](https://scikit-learn.org/stable/tutorial/machine_learning_map/index.html) tarafından önerilen bir TF-IDF Multinomial Naive Bayes olacağız.\n",
        "\n",
        "Bunu oluşturmak için, TF-IDF (terim frekans-ters belge frekansı) algoritmasını kullanarak soyut cümlelerimizi sayılara dönüştürmek için [`TfidfVectorizer`](https://scikit-learn.org/stable/modules/generated/sklearn.feature_extraction.text.TfidfVectorizer.html) sınıfını kullanan bir Scikit-Learn `Pipeline` oluşturacağız ve ardından cümlelerimizi, ['MultinomialNB'](https://scikit-learn.org/stable/modules/generated/sklearn.naive_bayes.MultinomialNB.html) agloritmasını kullanarak, sınıflandırmayı öğreneceğiz."
      ]
    },
    {
      "cell_type": "code",
      "metadata": {
        "id": "GxeNRFSz09eG"
      },
      "source": [
        "from sklearn.feature_extraction.text import TfidfVectorizer\n",
        "from sklearn.naive_bayes import MultinomialNB\n",
        "from sklearn.pipeline import Pipeline\n",
        "\n",
        "model_0 = Pipeline([\n",
        "  (\"tf-idf\", TfidfVectorizer()),\n",
        "  (\"clf\", MultinomialNB())\n",
        "])\n",
        "\n",
        "model_0.fit(X=train_sentences, \n",
        "            y=train_labels_encoded);"
      ],
      "execution_count": 18,
      "outputs": []
    },
    {
      "cell_type": "code",
      "metadata": {
        "id": "sO6CCxkc3Phi"
      },
      "source": [
        ""
      ],
      "execution_count": 18,
      "outputs": []
    }
  ]
}